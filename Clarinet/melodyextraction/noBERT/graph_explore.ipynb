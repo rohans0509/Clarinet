{
 "cells": [
  {
   "cell_type": "code",
   "execution_count": 1,
   "metadata": {},
   "outputs": [],
   "source": [
    "import numpy as np\n",
    "import miditoolkit\n",
    "import math\n",
    "import os\n",
    "from tqdm import tqdm"
   ]
  },
  {
   "cell_type": "code",
   "execution_count": 2,
   "metadata": {},
   "outputs": [],
   "source": [
    "# midi folder\n",
    "# midi file -> quantize\n",
    "# quantized midi file -> graph"
   ]
  },
  {
   "cell_type": "code",
   "execution_count": 3,
   "metadata": {},
   "outputs": [],
   "source": [
    "midi_file = \"/Users/kshitij1/Documents/GitHub/Clarinet/Data/Midi/Collection/Original Collection/001.mid\""
   ]
  },
  {
   "cell_type": "code",
   "execution_count": 4,
   "metadata": {},
   "outputs": [],
   "source": [
    "def process_midiFile(midi_file):\n",
    "    mid_in=miditoolkit.midi.parser.MidiFile(midi_file)    \n",
    "    notes = []\n",
    "    for i in range(len(mid_in.instruments)):\n",
    "        notes.extend(mid_in.instruments[i].notes)\n",
    "    notes.sort(key=lambda x: x.start)\n",
    "    return notes"
   ]
  },
  {
   "cell_type": "code",
   "execution_count": 5,
   "metadata": {},
   "outputs": [],
   "source": [
    "# start = notes[0].start\n",
    "\n",
    "# for note in notes:\n",
    "#     note.start = note.start - start\n",
    "#     note.end = note.end - start\n",
    "\n",
    "# notes[:5]"
   ]
  },
  {
   "cell_type": "code",
   "execution_count": 6,
   "metadata": {},
   "outputs": [],
   "source": [
    "notes = process_midiFile(midi_file)"
   ]
  },
  {
   "cell_type": "code",
   "execution_count": 7,
   "metadata": {},
   "outputs": [],
   "source": [
    "def quantize(notes, planck=1, rest=True):\n",
    "    start = notes[0].start\n",
    "\n",
    "    for note in notes:\n",
    "        note.start = note.start - start\n",
    "        note.end = note.end - start\n",
    "    \n",
    "    notes.sort(key=lambda x: x.end)\n",
    "    end = notes[-1].end\n",
    "    notes.sort(key=lambda x: x.start)\n",
    "\n",
    "    quantized_notes = []\n",
    "    for i in range(int(end/planck)):\n",
    "        quantized_notes.append([])\n",
    "    \n",
    "    for note in notes:\n",
    "        cur_start = note.start\n",
    "        cur_end = note.end\n",
    "        first_idx = int(cur_start/planck)\n",
    "        last_idx = int(cur_end/planck)\n",
    "        pitch = note.pitch\n",
    "        vel = note.velocity\n",
    "        for i in range(first_idx, last_idx):\n",
    "            quantized_notes[i].append((pitch,vel))\n",
    "            \n",
    "    if rest:\n",
    "        for i in range(len(quantized_notes)):\n",
    "            quantized_notes[i].append((-1,-1))\n",
    "    else:\n",
    "        for i in range(len(quantized_notes)):\n",
    "            if len(quantized_notes[i]) == 0:\n",
    "                quantized_notes[i].append((-1,-1))\n",
    "    return quantized_notes"
   ]
  },
  {
   "cell_type": "code",
   "execution_count": 8,
   "metadata": {},
   "outputs": [],
   "source": [
    "qn = quantize(notes, planck=1)"
   ]
  },
  {
   "cell_type": "code",
   "execution_count": 9,
   "metadata": {},
   "outputs": [],
   "source": [
    "def p(pitch1, pitch2):\n",
    "    return 1\n",
    "\n",
    "def q(pitch1, pitch2):\n",
    "    return 1\n",
    "\n",
    "def weight(note1,note2,type=\"prob\"):\n",
    "    p1 = note1[0]\n",
    "    p2 = note2[0]\n",
    "    if type == \"prob\":\n",
    "        return -1 * math.log(p(p1,p2)/q(p1,p2))\n",
    "    return 1"
   ]
  },
  {
   "cell_type": "code",
   "execution_count": null,
   "metadata": {},
   "outputs": [],
   "source": [
    "def makeMelodicTransitionMat(midi_folder):\n",
    "    mat = np.zeros((129,129))\n",
    "    for f in tqdm(midi_folder):\n",
    "        mid_in=miditoolkit.midi.parser.MidiFile(f)    \n",
    "        notes = mid_in.instruments[0].notes\n",
    "        qn = quantize(notes, planck=1, rest=False)\n",
    "        for i in range(len(qn)-1):\n",
    "            note1 = qn[i][0]\n",
    "            note2 = qn[i+1][0]\n",
    "            p1 = note1[0]\n",
    "            p2 = note2[0]\n",
    "            mat[p1][p2] += 1\n",
    "    for i in range(129):\n",
    "        if np.sum(mat[i]) != 0:\n",
    "            mat[i] = mat[i]/np.sum(mat[i])\n",
    "    return mat\n",
    "    "
   ]
  },
  {
   "cell_type": "code",
   "execution_count": null,
   "metadata": {},
   "outputs": [],
   "source": [
    "def makeNonMelodicTransitionMat(midi_folder):\n",
    "    mat = np.zeros((129,129))\n",
    "    for f in tqdm(midi_folder):\n",
    "        mid_in=miditoolkit.midi.parser.MidiFile(f)    \n",
    "        for channel in range(0,3):\n",
    "            notes = mid_in.instruments[channel].notes\n",
    "            qn = quantize(notes, planck=1)\n",
    "            for i in range(len(qn)-1):\n",
    "                box1 = qn[i]\n",
    "                box2 = qn[i+1]\n",
    "                for _ in range(5):\n",
    "                    note1 = box1[np.random.randint(len(box1))]\n",
    "                    note2 = box2[np.random.randint(len(box2))]\n",
    "                    p1 = note1[0]\n",
    "                    p2 = note2[0]\n",
    "                    mat[p1][p2] += 1\n",
    "    for i in range(129):\n",
    "        if np.sum(mat[i]) != 0:\n",
    "            mat[i] = mat[i]/np.sum(mat[i])\n",
    "    return mat\n",
    "    "
   ]
  },
  {
   "cell_type": "code",
   "execution_count": null,
   "metadata": {},
   "outputs": [],
   "source": []
  },
  {
   "cell_type": "code",
   "execution_count": null,
   "metadata": {},
   "outputs": [],
   "source": [
    "def dumpMelodic(midi_folder,output_folder,num_files=5):\n",
    "    files = [midi_folder+\"/\"+f for f in os.listdir(midi_folder) if f.endswith(\".mid\")]\n",
    "    if num_files>0:\n",
    "        files = files[:num_files]\n",
    "    mat = makeMelodicTransitionMat(files)\n",
    "    np.save(output_folder+\"/melodic.npy\",mat)"
   ]
  },
  {
   "cell_type": "code",
   "execution_count": null,
   "metadata": {},
   "outputs": [],
   "source": [
    "def dumpNonMelodic(midi_folder,output_folder,num_files=5):\n",
    "    files = [midi_folder+\"/\"+f for f in os.listdir(midi_folder) if f.endswith(\".mid\")]\n",
    "    files = files[:num_files]\n",
    "    mat = makeNonMelodicTransitionMat(files)\n",
    "    np.save(output_folder+\"/nonmelodic.npy\",mat)"
   ]
  },
  {
   "cell_type": "code",
   "execution_count": 10,
   "metadata": {},
   "outputs": [],
   "source": [
    "output_folder = \"../../../Data/Numpy/noBERT\"\n",
    "midi_folder = \"/Users/kshitij1/Documents/GitHub/Clarinet/Data/Midi/Collection/Original Collection\""
   ]
  },
  {
   "cell_type": "code",
   "execution_count": null,
   "metadata": {},
   "outputs": [],
   "source": [
    "dumpMelodic(midi_folder,output_folder,-1)"
   ]
  },
  {
   "cell_type": "code",
   "execution_count": null,
   "metadata": {},
   "outputs": [],
   "source": [
    "dumpNonMelodic(midi_folder,output_folder,5)"
   ]
  },
  {
   "cell_type": "code",
   "execution_count": 11,
   "metadata": {},
   "outputs": [],
   "source": [
    "def p(pitch1, pitch2):\n",
    "    return 1\n",
    "\n",
    "def q(pitch1, pitch2):\n",
    "    return 1\n",
    "\n",
    "def weight(note1,note2,type=\"prob\"):\n",
    "    p1 = note1[0]\n",
    "    p2 = note2[0]\n",
    "    if type == \"prob\":\n",
    "        return -1 * math.log(p(p1,p2)/q(p1,p2))\n",
    "    return 1"
   ]
  },
  {
   "cell_type": "code",
   "execution_count": null,
   "metadata": {},
   "outputs": [],
   "source": [
    "def dumpWeight(numpy_folder):\n",
    "    melodic = np.load(numpy_folder+\"/melodic.npy\")\n",
    "    nonmelodic = np.load(numpy_folder+\"/nonmelodic.npy\")\n",
    "    mat = np.zeros((129,129))\n",
    "    for i in range(129):\n",
    "        for j in range(129):\n",
    "            if nonmelodic[i][j] != 0:\n",
    "                mat[i][j] = melodic[i][j]/nonmelodic[i][j]\n",
    "            else:\n",
    "                mat[i][j] = melodic[i][j] * pow(10,5)\n",
    "            if mat[i][j] == 0:\n",
    "                mat[i][j] = pow(10,-5)\n",
    "            mat[i][j] = -1 * math.log(mat[i][j])\n",
    "    np.save(numpy_folder+\"/weight.npy\",mat)"
   ]
  },
  {
   "cell_type": "code",
   "execution_count": null,
   "metadata": {},
   "outputs": [],
   "source": [
    "dumpWeight(output_folder)"
   ]
  },
  {
   "cell_type": "code",
   "execution_count": 12,
   "metadata": {},
   "outputs": [],
   "source": [
    "def loadWeight(numpy_folder):\n",
    "    return np.load(numpy_folder+\"/weight.npy\")"
   ]
  },
  {
   "cell_type": "code",
   "execution_count": 13,
   "metadata": {},
   "outputs": [],
   "source": [
    "weights = loadWeight(output_folder)"
   ]
  },
  {
   "cell_type": "code",
   "execution_count": null,
   "metadata": {},
   "outputs": [],
   "source": [
    "'''\n",
    "i -> (i+2), (i+4), (i+5), (i+7), (i+9), (i+11)\n",
    "7 > 5 > 4 > 2~9 > 11\n",
    "'''\n",
    "def check(weights):\n",
    "    i = 60\n",
    "    for j in range(1,12):\n",
    "        print(i,i+j, weights[i][i+j])\n",
    "check(weights)"
   ]
  },
  {
   "cell_type": "code",
   "execution_count": 24,
   "metadata": {},
   "outputs": [],
   "source": [
    "class Graph:\n",
    "    def __init__(self, midi_file,weight_matrix):\n",
    "        self.midi_file = midi_file\n",
    "        self.box_list = quantize(process_midiFile(midi_file),planck=1)\n",
    "        self.weight_matrix = weight_matrix\n",
    "        self.layers = [[] for i in range(len(self.box_list))]\n",
    "        # each layer will contain [ [(pitch,velocity,[list of weights corresponding next layer])], ... ]\n",
    "    \n",
    "    def create_graph(self):\n",
    "        for i in range(len(self.box_list)-1):\n",
    "            box1 = self.box_list[i]\n",
    "            box2 = self.box_list[i+1]\n",
    "            for note1 in box1:\n",
    "                weight_list = []\n",
    "                for note2 in box2:\n",
    "                    weight_list.append(self.get_weights(note1,note2))\n",
    "                self.layers[i].append([note1, weight_list])\n",
    "    \n",
    "    def shortestPath(self):\n",
    "        '''\n",
    "        input   -> layers information (nD array of numberoflayer,...)\n",
    "                    layers number of neurons per layer\n",
    "                -> dist (3D array of layer,start,end)\n",
    "                    dist (layer idx, neuron in idx^th layer, neuron in idx+1^th layer)\n",
    "                -> neurons (1D array of number of neurons in each layer)\n",
    "\n",
    "        '''\n",
    "        # neurons=[]\n",
    "        # for i in range(len(self.layers)):\n",
    "        #     neurons.append(len(self.layers[i]))\n",
    "        # dist=np.zeros((len(self.layers),neurons[0],neurons[-1]))\n",
    "\n",
    "        layers = []\n",
    "        for i in range(len(self.layers)):\n",
    "            layers.append(len(self.layers[i]))\n",
    "        \n",
    "        neurons = []\n",
    "        for i in range(len(layers)):\n",
    "            num_neurons = layers[i]\n",
    "            neurons.append(np.arange(num_neurons))\n",
    "\n",
    "        maxnum_neurons = max(layers)\n",
    "        dist = np.zeros((len(layers),maxnum_neurons,maxnum_neurons))\n",
    "\n",
    "        for i in range(len(layers)-1):\n",
    "            for j in range(layers[i]):\n",
    "                for k in range(layers[i+1]):\n",
    "                    dist[i][j][k] = self.weight_matrix[self.layers[i][j][0][0]][self.layers[i+1][k][0][0]]\n",
    "\n",
    "        shortestpaths = [[-1 for _ in range(len(layers)+1)] ,[-1 for _ in range(len(layers)+1)]]\n",
    "        shortestpathsdist = []\n",
    "        for i in range(len(layers)):\n",
    "            #shortestpaths.append(np.zeros((layers[i],i+1)))\n",
    "            shortestpathsdist.append(np.zeros((layers[i])))\n",
    "        for i in tqdm(range(len(layers))):\n",
    "            for j,neuron in enumerate(neurons[i]):\n",
    "                if i == 0:\n",
    "                    shortestpaths[0][j] = [j]\n",
    "                    #shortestpaths[i].append([j])\n",
    "                    shortestpathsdist[i][j] = 0\n",
    "                else:\n",
    "                    dummy = [shortestpathsdist[i-1][k] + dist[i-1][k][j] for k in neurons[i-1]]\n",
    "                    shortestpathsdist[i][j] = np.min(dummy)\n",
    "                    prevstate = np.argmin(dummy)\n",
    "                    shortestpaths[1][j] = np.append(shortestpaths[0][prevstate], j)\n",
    "            shortestpaths[0] = shortestpaths[1].copy()\n",
    "        return shortestpaths[0]\n",
    "        #return shortestpathsdist\n",
    "        \n",
    "    def get_weights(self,note1,note2):\n",
    "        p1 = note1[0]\n",
    "        p2 = note2[0]\n",
    "        return self.weight_matrix[p1][p2]\n",
    "            "
   ]
  },
  {
   "cell_type": "code",
   "execution_count": 25,
   "metadata": {},
   "outputs": [],
   "source": [
    "G = Graph(midi_file,weights)\n",
    "G.create_graph()"
   ]
  },
  {
   "cell_type": "code",
   "execution_count": 26,
   "metadata": {},
   "outputs": [
    {
     "name": "stderr",
     "output_type": "stream",
     "text": [
      "100%|██████████| 137920/137920 [01:58<00:00, 1165.89it/s]\n"
     ]
    }
   ],
   "source": [
    "sp = G.shortestPath()"
   ]
  },
  {
   "cell_type": "code",
   "execution_count": null,
   "metadata": {},
   "outputs": [],
   "source": []
  }
 ],
 "metadata": {
  "interpreter": {
   "hash": "aee8b7b246df8f9039afb4144a1f6fd8d2ca17a180786b69acc140d282b71a49"
  },
  "kernelspec": {
   "display_name": "Python 3.7.9 64-bit",
   "language": "python",
   "name": "python3"
  },
  "language_info": {
   "codemirror_mode": {
    "name": "ipython",
    "version": 3
   },
   "file_extension": ".py",
   "mimetype": "text/x-python",
   "name": "python",
   "nbconvert_exporter": "python",
   "pygments_lexer": "ipython3",
   "version": "3.7.9"
  },
  "orig_nbformat": 4
 },
 "nbformat": 4,
 "nbformat_minor": 2
}
