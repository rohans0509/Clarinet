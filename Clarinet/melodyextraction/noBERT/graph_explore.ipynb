{
 "cells": [
  {
   "cell_type": "code",
   "execution_count": 40,
   "metadata": {},
   "outputs": [],
   "source": [
    "import numpy as np\n",
    "import miditoolkit\n",
    "import math"
   ]
  },
  {
   "cell_type": "code",
   "execution_count": null,
   "metadata": {},
   "outputs": [],
   "source": [
    "# midi folder\n",
    "# midi file -> quantize\n",
    "# quantized midi file -> graph"
   ]
  },
  {
   "cell_type": "code",
   "execution_count": 17,
   "metadata": {},
   "outputs": [],
   "source": [
    "midi_file = \"/Users/kshitij1/Documents/GitHub/Clarinet/Data/Midi/Collection/Original Collection/001.mid\""
   ]
  },
  {
   "cell_type": "code",
   "execution_count": 25,
   "metadata": {},
   "outputs": [],
   "source": [
    "mid_in=miditoolkit.midi.parser.MidiFile(midi_file)    \n",
    "notes = mid_in.instruments[2].notes\n",
    "notes.sort(key=lambda x: x.start)"
   ]
  },
  {
   "cell_type": "code",
   "execution_count": 26,
   "metadata": {},
   "outputs": [],
   "source": [
    "# start = notes[0].start\n",
    "\n",
    "# for note in notes:\n",
    "#     note.start = note.start - start\n",
    "#     note.end = note.end - start\n",
    "\n",
    "# notes[:5]"
   ]
  },
  {
   "cell_type": "code",
   "execution_count": 27,
   "metadata": {},
   "outputs": [],
   "source": [
    "def quantize(notes, planck=1):\n",
    "    start = notes[0].start\n",
    "\n",
    "    for note in notes:\n",
    "        note.start = note.start - start\n",
    "        note.end = note.end - start\n",
    "    \n",
    "    notes.sort(key=lambda x: x.end)\n",
    "    end = notes[-1].end\n",
    "    notes.sort(key=lambda x: x.start)\n",
    "\n",
    "    quantized_notes = []\n",
    "    for i in range(int(end/planck)):\n",
    "        quantized_notes.append([])\n",
    "    \n",
    "    for note in notes:\n",
    "        cur_start = note.start\n",
    "        cur_end = note.end\n",
    "        first_idx = int(cur_start/planck)\n",
    "        last_idx = int(cur_end/planck)\n",
    "        pitch = note.pitch\n",
    "        vel = note.velocity\n",
    "        for i in range(first_idx, last_idx):\n",
    "            quantized_notes[i].append((pitch,vel))\n",
    "    \n",
    "    return quantized_notes"
   ]
  },
  {
   "cell_type": "code",
   "execution_count": 28,
   "metadata": {},
   "outputs": [],
   "source": [
    "qn = quantize(notes, planck=1)"
   ]
  },
  {
   "cell_type": "code",
   "execution_count": 32,
   "metadata": {},
   "outputs": [],
   "source": [
    "def weight(note1, note2):\n",
    "    # have tuples in notei\n",
    "    return 1"
   ]
  },
  {
   "cell_type": "code",
   "execution_count": 35,
   "metadata": {},
   "outputs": [],
   "source": [
    "class Graph:\n",
    "    def __init__(self, box_list):\n",
    "        self.box_list = box_list\n",
    "        self.layers = [[] for i in range(len(box_list))]\n",
    "        # each layer will contain [ [(pitch,velocity,[list of weights corresponding next layer])], ... ]\n",
    "    \n",
    "    def create_graph(self):\n",
    "        for i in range(len(self.box_list)-1):\n",
    "            box1 = self.box_list[i]\n",
    "            box2 = self.box_list[i+1]\n",
    "            for note1 in box1:\n",
    "                weight_list = []\n",
    "                for note2 in box2:\n",
    "                    weight_list.append(weight(note1,note2))\n",
    "                self.layers[i].append([note1, weight_list])\n",
    "            "
   ]
  },
  {
   "cell_type": "code",
   "execution_count": 36,
   "metadata": {},
   "outputs": [],
   "source": [
    "G = Graph(qn)"
   ]
  },
  {
   "cell_type": "code",
   "execution_count": 37,
   "metadata": {},
   "outputs": [],
   "source": [
    "G.create_graph()"
   ]
  },
  {
   "cell_type": "code",
   "execution_count": 44,
   "metadata": {},
   "outputs": [],
   "source": [
    "def makeMelodicTransitionMat(midi_folder):\n",
    "    mat = np.zeros((128,128))\n",
    "    for f in midi_folder:\n",
    "        mid_in=miditoolkit.midi.parser.MidiFile(f)    \n",
    "        notes = mid_in.instruments[0].notes\n",
    "        qn = quantize(notes, planck=1)\n",
    "        for i in range(len(qn)-1):\n",
    "            note1 = qn[i][0]\n",
    "            note2 = qn[i+1][0]\n",
    "            p1 = note1[0]\n",
    "            p2 = note2[0]\n",
    "            mat[p1][p2] += 1\n",
    "    for i in range(128):\n",
    "        mat[i] = mat[i]/np.sum(mat[i])\n",
    "    return mat\n",
    "    "
   ]
  },
  {
   "cell_type": "code",
   "execution_count": 45,
   "metadata": {},
   "outputs": [],
   "source": [
    "def makeNonMelodicTransitionMat(midi_folder):\n",
    "    mat = np.zeros((128,128))\n",
    "    for f in midi_folder:\n",
    "        mid_in=miditoolkit.midi.parser.MidiFile(f)    \n",
    "        for channel in range(1,3):\n",
    "            notes = mid_in.instruments[channel].notes\n",
    "            qn = quantize(notes, planck=1)\n",
    "            for i in range(len(qn)-1):\n",
    "                box1 = qn[i]\n",
    "                box2 = qn[i+1]\n",
    "                for _ in range(5):\n",
    "                    note1 = box1[np.random.randint(len(box1))]\n",
    "                    note2 = box2[np.random.randint(len(box2))]\n",
    "                    p1 = note1[0]\n",
    "                    p2 = note2[0]\n",
    "                    mat[p1][p2] += 1\n",
    "    for i in range(128):\n",
    "        mat[i] = mat[i]/np.sum(mat[i])\n",
    "    return mat\n",
    "    "
   ]
  },
  {
   "cell_type": "code",
   "execution_count": null,
   "metadata": {},
   "outputs": [],
   "source": [
    "def p(pitch1, pitch2):\n",
    "    return 1\n",
    "\n",
    "def q(pitch1, pitch2):\n",
    "    return 1\n",
    "\n",
    "def weight(note1,note2,type=\"prob\"):\n",
    "    p1 = note1[0]\n",
    "    p2 = note2[0]\n",
    "    if type == \"prob\":\n",
    "        return -1 * math.log(p(p1,p2)/q(p1,p2))\n",
    "    return 1"
   ]
  },
  {
   "cell_type": "code",
   "execution_count": null,
   "metadata": {},
   "outputs": [],
   "source": [
    "# ACCOUNT FOR RESTNOTE EVERYWHERE"
   ]
  }
 ],
 "metadata": {
  "interpreter": {
   "hash": "aee8b7b246df8f9039afb4144a1f6fd8d2ca17a180786b69acc140d282b71a49"
  },
  "kernelspec": {
   "display_name": "Python 3.7.9 64-bit",
   "language": "python",
   "name": "python3"
  },
  "language_info": {
   "codemirror_mode": {
    "name": "ipython",
    "version": 3
   },
   "file_extension": ".py",
   "mimetype": "text/x-python",
   "name": "python",
   "nbconvert_exporter": "python",
   "pygments_lexer": "ipython3",
   "version": "3.7.9"
  },
  "orig_nbformat": 4
 },
 "nbformat": 4,
 "nbformat_minor": 2
}
