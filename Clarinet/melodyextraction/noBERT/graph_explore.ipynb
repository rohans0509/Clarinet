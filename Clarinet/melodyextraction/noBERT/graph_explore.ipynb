{
 "cells": [
  {
   "cell_type": "code",
   "execution_count": 1,
   "metadata": {},
   "outputs": [],
   "source": [
    "import numpy as np\n",
    "import miditoolkit\n",
    "import math\n",
    "import os\n",
    "from tqdm import tqdm"
   ]
  },
  {
   "cell_type": "code",
   "execution_count": 2,
   "metadata": {},
   "outputs": [],
   "source": [
    "# midi folder\n",
    "# midi file -> quantize\n",
    "# quantized midi file -> graph"
   ]
  },
  {
   "cell_type": "code",
   "execution_count": 3,
   "metadata": {},
   "outputs": [],
   "source": [
    "#midi_file = \"/home/ee/btech/ee1190531/scratch/Clarinet/Data/Midi/Collection/Original Collection/001.mid\"\n",
    "midi_file = \"/Users/kshitij1/Documents/GitHub/Clarinet/Data/Midi/Collection/Original Collection/001.mid\""
   ]
  },
  {
   "cell_type": "code",
   "execution_count": 4,
   "metadata": {},
   "outputs": [],
   "source": [
    "def process_midiFile(midi_file):\n",
    "    mid_in=miditoolkit.midi.parser.MidiFile(midi_file)    \n",
    "    notes = []\n",
    "    for i in range(len(mid_in.instruments)):\n",
    "        notes.extend(mid_in.instruments[i].notes)\n",
    "    notes.sort(key=lambda x: x.start)\n",
    "    return notes"
   ]
  },
  {
   "cell_type": "code",
   "execution_count": 5,
   "metadata": {},
   "outputs": [],
   "source": [
    "notes = process_midiFile(midi_file)"
   ]
  },
  {
   "cell_type": "code",
   "execution_count": 6,
   "metadata": {},
   "outputs": [],
   "source": [
    "def quantize(notes, planck=1, rest=True):\n",
    "    start = notes[0].start\n",
    "\n",
    "    for note in notes:\n",
    "        note.start = note.start - start\n",
    "        note.end = note.end - start\n",
    "    \n",
    "    notes.sort(key=lambda x: x.end)\n",
    "    end = notes[-1].end\n",
    "    notes.sort(key=lambda x: x.start)\n",
    "\n",
    "    quantized_notes = []\n",
    "    for i in range(int(end/planck)):\n",
    "        quantized_notes.append([])\n",
    "    \n",
    "    for note in notes:\n",
    "        cur_start = note.start\n",
    "        cur_end = note.end\n",
    "        first_idx = int(cur_start/planck)\n",
    "        last_idx = int(cur_end/planck)\n",
    "        pitch = note.pitch\n",
    "        vel = note.velocity\n",
    "        for i in range(first_idx, last_idx):\n",
    "            quantized_notes[i].append((pitch,vel))\n",
    "            \n",
    "    if rest:\n",
    "        for i in range(len(quantized_notes)):\n",
    "            quantized_notes[i].append((129,-1))\n",
    "    else:\n",
    "        for i in range(len(quantized_notes)):\n",
    "            if len(quantized_notes[i]) == 0:\n",
    "                quantized_notes[i].append((129,-1))\n",
    "    return quantized_notes"
   ]
  },
  {
   "cell_type": "code",
   "execution_count": 7,
   "metadata": {},
   "outputs": [],
   "source": [
    "qn = quantize(notes, planck=1)"
   ]
  },
  {
   "cell_type": "code",
   "execution_count": 34,
   "metadata": {},
   "outputs": [],
   "source": [
    "def makeMelodicTransitionMat(midi_folder):\n",
    "    mat = np.zeros((131,131))\n",
    "    for f in tqdm(midi_folder):\n",
    "        mid_in=miditoolkit.midi.parser.MidiFile(f)    \n",
    "        notes = mid_in.instruments[0].notes\n",
    "        qn = quantize(notes, planck=1, rest=False)\n",
    "        for i in range(len(qn)-1):\n",
    "            note1 = qn[i][0]\n",
    "            note2 = qn[i+1][0]\n",
    "            p1 = note1[0]\n",
    "            p2 = note2[0]\n",
    "            mat[p1][p2] += 1\n",
    "    # start idx = 0\n",
    "    # actual (rest is idx=129)\n",
    "    # end idx = 130\n",
    "\n",
    "    for j in range(131):\n",
    "        mat[0][j] = j\n",
    "        mat[j][0] = j\n",
    "        mat[130][j] = j\n",
    "        mat[j][130] = j\n",
    "\n",
    "    for i in range(0,131):\n",
    "        if np.sum(mat[i]) != 0:\n",
    "            mat[i] = mat[i]/np.sum(mat[i])\n",
    "    return mat\n",
    "    "
   ]
  },
  {
   "cell_type": "code",
   "execution_count": 35,
   "metadata": {},
   "outputs": [],
   "source": [
    "def makeNonMelodicTransitionMat(midi_folder):\n",
    "    mat = np.zeros((131,131))\n",
    "    for f in tqdm(midi_folder):\n",
    "        mid_in=miditoolkit.midi.parser.MidiFile(f)    \n",
    "        for channel in range(0,3):\n",
    "            notes = mid_in.instruments[channel].notes\n",
    "            qn = quantize(notes, planck=1)\n",
    "            for i in range(len(qn)-1):\n",
    "                box1 = qn[i]\n",
    "                box2 = qn[i+1]\n",
    "                for _ in range(5):\n",
    "                    note1 = box1[np.random.randint(len(box1))]\n",
    "                    note2 = box2[np.random.randint(len(box2))]\n",
    "                    p1 = note1[0]\n",
    "                    p2 = note2[0]\n",
    "                    mat[p1][p2] += 1\n",
    "    \n",
    "    for j in range(131):\n",
    "        mat[0][j] = 1\n",
    "        mat[j][0] = 1\n",
    "        mat[130][j] = 1\n",
    "        mat[j][130] = 1\n",
    "    \n",
    "    for i in range(131):\n",
    "        if np.sum(mat[i]) != 0:\n",
    "            mat[i] = mat[i]/np.sum(mat[i])\n",
    "    return mat\n",
    "    "
   ]
  },
  {
   "cell_type": "code",
   "execution_count": null,
   "metadata": {},
   "outputs": [],
   "source": []
  },
  {
   "cell_type": "code",
   "execution_count": 10,
   "metadata": {},
   "outputs": [],
   "source": [
    "def dumpMelodic(midi_folder,output_folder,num_files=5):\n",
    "    files = [midi_folder+\"/\"+f for f in os.listdir(midi_folder) if f.endswith(\".mid\")]\n",
    "    if num_files>0:\n",
    "        files = files[:num_files]\n",
    "    mat = makeMelodicTransitionMat(files)\n",
    "    np.save(output_folder+\"/melodic.npy\",mat)"
   ]
  },
  {
   "cell_type": "code",
   "execution_count": 39,
   "metadata": {},
   "outputs": [],
   "source": [
    "def dumpNonMelodic(midi_folder,output_folder,num_files=5):\n",
    "    files = [midi_folder+\"/\"+f for f in os.listdir(midi_folder) if f.endswith(\".mid\")]\n",
    "    files = files[:num_files]\n",
    "    mat = makeNonMelodicTransitionMat(files)\n",
    "    np.save(output_folder+\"/nonmelodic.npy\",mat)"
   ]
  },
  {
   "cell_type": "code",
   "execution_count": 37,
   "metadata": {},
   "outputs": [],
   "source": [
    "output_folder = \"../../../Data/Numpy/noBERT\"\n",
    "midi_folder = \"/Users/kshitij1/Documents/GitHub/Clarinet/Data/Midi/Collection/Original Collection\""
   ]
  },
  {
   "cell_type": "code",
   "execution_count": 80,
   "metadata": {},
   "outputs": [
    {
     "name": "stderr",
     "output_type": "stream",
     "text": [
      "100%|██████████| 909/909 [05:44<00:00,  2.64it/s]\n"
     ]
    }
   ],
   "source": [
    "dumpMelodic(midi_folder,output_folder,-1)"
   ]
  },
  {
   "cell_type": "code",
   "execution_count": 40,
   "metadata": {},
   "outputs": [
    {
     "name": "stderr",
     "output_type": "stream",
     "text": [
      "100%|██████████| 15/15 [05:33<00:00, 22.25s/it]\n"
     ]
    }
   ],
   "source": [
    "dumpNonMelodic(midi_folder,output_folder,15)"
   ]
  },
  {
   "cell_type": "code",
   "execution_count": 41,
   "metadata": {},
   "outputs": [],
   "source": [
    "def dumpWeight(numpy_folder):\n",
    "    melodic = np.load(numpy_folder+\"/melodic.npy\")\n",
    "    nonmelodic = np.load(numpy_folder+\"/nonmelodic.npy\")\n",
    "    mat = np.zeros((131,131))\n",
    "    for i in range(131):\n",
    "        for j in range(131):\n",
    "            if nonmelodic[i][j] != 0:\n",
    "                mat[i][j] = melodic[i][j]/nonmelodic[i][j]\n",
    "            else:\n",
    "                # [TODO] Fix smoothing\n",
    "                mat[i][j] = melodic[i][j] * pow(10,5)\n",
    "            if mat[i][j] == 0:\n",
    "                mat[i][j] = pow(10,-5)\n",
    "            mat[i][j] = -1 * math.log(mat[i][j])\n",
    "    np.save(numpy_folder+\"/weight.npy\",mat)"
   ]
  },
  {
   "cell_type": "code",
   "execution_count": 91,
   "metadata": {},
   "outputs": [],
   "source": [
    "melodic = np.load(output_folder+\"/melodic.npy\")\n",
    "nonmelodic = np.load(output_folder+\"/nonmelodic.npy\")"
   ]
  },
  {
   "cell_type": "code",
   "execution_count": 42,
   "metadata": {},
   "outputs": [],
   "source": [
    "dumpWeight(output_folder)"
   ]
  },
  {
   "cell_type": "code",
   "execution_count": 43,
   "metadata": {},
   "outputs": [],
   "source": [
    "def loadWeight(numpy_folder):\n",
    "    return np.load(numpy_folder+\"/weight.npy\")"
   ]
  },
  {
   "cell_type": "code",
   "execution_count": 44,
   "metadata": {},
   "outputs": [],
   "source": [
    "weights = loadWeight(output_folder)"
   ]
  },
  {
   "cell_type": "code",
   "execution_count": 104,
   "metadata": {},
   "outputs": [],
   "source": [
    "weights = melodic\n",
    "weights = weights * -1"
   ]
  },
  {
   "cell_type": "code",
   "execution_count": 105,
   "metadata": {},
   "outputs": [
    {
     "name": "stdout",
     "output_type": "stream",
     "text": [
      "60 61 -9.314567584506414e-06\n",
      "60 62 -0.00016367025898489842\n",
      "60 63 -7.983915072434069e-05\n",
      "60 64 -1.8629135169012828e-05\n",
      "60 65 -2.66130502414469e-05\n",
      "60 66 -6.653262560361725e-07\n",
      "60 67 -3.260098654577245e-05\n",
      "60 68 -9.979893840542586e-06\n",
      "60 69 -1.7963808912976655e-05\n",
      "60 70 -6.653262560361725e-06\n",
      "60 71 -4.657283792253207e-06\n"
     ]
    }
   ],
   "source": [
    "'''\n",
    "i -> (i+2), (i+4), (i+5), (i+7), (i+9), (i+11)\n",
    "7 > 5 > 4 > 2~9 > 11\n",
    "'''\n",
    "def check(weights):\n",
    "    i = 60\n",
    "    for j in range(1,12):\n",
    "        print(i,i+j, weights[i][i+j])\n",
    "check(weights)"
   ]
  },
  {
   "cell_type": "code",
   "execution_count": 106,
   "metadata": {},
   "outputs": [],
   "source": [
    "class Node:\n",
    "    def __init__(self,pitch,velocity,weight_list,layer_idx,parent_idx):\n",
    "        self.pitch = pitch\n",
    "        self.velocity = velocity\n",
    "        self.weight_list = weight_list\n",
    "        self.layer_idx = layer_idx\n",
    "        self.parent_idx = parent_idx"
   ]
  },
  {
   "cell_type": "code",
   "execution_count": 107,
   "metadata": {},
   "outputs": [],
   "source": [
    "class Graph:\n",
    "    def __init__(self, midi_file,weight_matrix):\n",
    "        self.midi_file = midi_file\n",
    "        self.box_list = quantize(process_midiFile(midi_file),planck=1)\n",
    "        self.box_list = [[(0,-1)]] + self.box_list + [[(130,-1)]]\n",
    "        self.weight_matrix = weight_matrix\n",
    "        self.layers = [[] for i in range(len(self.box_list))]\n",
    "        # each layer will contain [ [(pitch,velocity,[list of weights corresponding next layer])], ... ]\n",
    "    \n",
    "    def create_graph(self):\n",
    "        for i in range(0,len(self.box_list)-1):\n",
    "            box1 = self.box_list[i]\n",
    "            box2 = self.box_list[i+1]\n",
    "            for note1 in box1:\n",
    "                weight_list = []\n",
    "                for note2 in box2:\n",
    "                    weight_list.append(self.get_weights(note1,note2))\n",
    "                #self.layers[i].append([note1, weight_list])\n",
    "                pitch = note1[0]\n",
    "                velocity = note1[1]\n",
    "                self.layers[i].append(Node(pitch=pitch,velocity=velocity,weight_list=weight_list,layer_idx=i,parent_idx=-1))\n",
    "        cur = len(self.box_list)-1\n",
    "        box = self.box_list[cur]\n",
    "        for note in box:\n",
    "            weight_list = []\n",
    "            pitch = note[0]\n",
    "            velocity = note[1]\n",
    "            self.layers[cur].append(Node(pitch=pitch,velocity=velocity,weight_list=weight_list,layer_idx=cur,parent_idx=-1))\n",
    "    \n",
    "    def get_weights(self,note1,note2):\n",
    "        p1 = note1[0]\n",
    "        p2 = note2[0]\n",
    "        return self.weight_matrix[p1][p2]\n",
    "\n",
    "    def shortestPath(self):\n",
    "        shortestpathsdist = []\n",
    "        for i in range(len(self.layers)):\n",
    "            shortestpathsdist.append(np.zeros((len(self.layers[i]))))\n",
    "        shortestpathsdist[0][0] = 0\n",
    "        for i in range(1,len(self.layers)-1):\n",
    "            for j in range(len(self.layers[i])):\n",
    "                for k in range(len(self.layers[i-1])):\n",
    "                    newdist = shortestpathsdist[i-1][k] + self.weight_matrix[self.layers[i-1][k].pitch][self.layers[i][j].pitch]\n",
    "                    if newdist < shortestpathsdist[i][j]:\n",
    "                        shortestpathsdist[i][j] = newdist\n",
    "                        self.layers[i][j].parent_idx = k\n",
    "        return self.getPath()\n",
    "    \n",
    "    def getPath(self):\n",
    "        path = []\n",
    "        path.append(self.layers[-1][0])\n",
    "        for i in range(len(self.layers)-2,0,-1):\n",
    "            parent = path[-1].parent_idx\n",
    "            path.append(self.layers[i][parent])\n",
    "        path.reverse()\n",
    "        notes = []\n",
    "        for i in range(len(path)):\n",
    "            notes.append(path[i].pitch)\n",
    "        return notes\n",
    "    \n",
    "    def melody(self):\n",
    "        pitches=self.shortestPath()\n",
    "        melody=[]\n",
    "        for i in range(len(pitches)):\n",
    "            if len(melody)==0:\n",
    "                melody.append(pitches[i])\n",
    "            else:\n",
    "                if pitches[i]!=melody[-1]:\n",
    "                    melody.append(pitches[i])\n",
    "        return(melody)\n",
    "                    "
   ]
  },
  {
   "cell_type": "code",
   "execution_count": 108,
   "metadata": {},
   "outputs": [],
   "source": [
    "G = Graph(midi_file,weights)\n",
    "G.create_graph()"
   ]
  },
  {
   "cell_type": "code",
   "execution_count": 109,
   "metadata": {},
   "outputs": [],
   "source": [
    "melody = G.melody()"
   ]
  },
  {
   "cell_type": "code",
   "execution_count": 110,
   "metadata": {},
   "outputs": [
    {
     "data": {
      "text/plain": [
       "[129, 53, 70, 66, 129, 73, 129, 66, 129, 61]"
      ]
     },
     "execution_count": 110,
     "metadata": {},
     "output_type": "execute_result"
    }
   ],
   "source": [
    "melody[:10]"
   ]
  },
  {
   "cell_type": "code",
   "execution_count": 113,
   "metadata": {},
   "outputs": [],
   "source": [
    "pitch_map = {\n",
    "    12: \"C\",\n",
    "    13: \"C#\",\n",
    "    14: \"D\",\n",
    "    15: \"D#\",\n",
    "    16: \"E\",\n",
    "    17: \"F\",\n",
    "    18: \"F#\",\n",
    "    19: \"G\",\n",
    "    20: \"G#\",\n",
    "    21: \"A\",\n",
    "    22: \"A#\",\n",
    "    23: \"B\"\n",
    "    }\n",
    "def get_pitch_name(pitch):\n",
    "    num = pitch % 12\n",
    "    return pitch_map[num + 12]"
   ]
  },
  {
   "cell_type": "code",
   "execution_count": 114,
   "metadata": {},
   "outputs": [],
   "source": [
    "def dropRest(melody):\n",
    "    new_melody = []\n",
    "    for i in range(len(melody)):\n",
    "        if melody[i] != 129:\n",
    "            new_melody.append(melody[i])\n",
    "    return new_melody"
   ]
  },
  {
   "cell_type": "code",
   "execution_count": 115,
   "metadata": {},
   "outputs": [],
   "source": [
    "processed = dropRest(melody)"
   ]
  },
  {
   "cell_type": "code",
   "execution_count": 116,
   "metadata": {},
   "outputs": [],
   "source": [
    "ans = [get_pitch_name(pitch) for pitch in processed]"
   ]
  },
  {
   "cell_type": "code",
   "execution_count": 117,
   "metadata": {},
   "outputs": [],
   "source": [
    "mid_in = miditoolkit.midi.parser.MidiFile(midi_file)\n",
    "notes = mid_in.instruments[0].notes\n",
    "actual_melody = []\n",
    "for note in notes:\n",
    "    actual_melody.append(note.pitch)"
   ]
  },
  {
   "cell_type": "code",
   "execution_count": 118,
   "metadata": {},
   "outputs": [
    {
     "data": {
      "text/plain": [
       "[61, 63, 66, 68, 70, 66, 63, 68, 68, 65]"
      ]
     },
     "execution_count": 118,
     "metadata": {},
     "output_type": "execute_result"
    }
   ],
   "source": [
    "actual_melody[:10]"
   ]
  },
  {
   "cell_type": "code",
   "execution_count": 119,
   "metadata": {},
   "outputs": [],
   "source": [
    "actual_melody = [get_pitch_name(pitch) for pitch in actual_melody]"
   ]
  },
  {
   "cell_type": "code",
   "execution_count": 120,
   "metadata": {},
   "outputs": [
    {
     "data": {
      "text/plain": [
       "['F', 'A#', 'F#', 'C#', 'F#', 'C#', 'F#', 'A#', 'F#', 'A#']"
      ]
     },
     "execution_count": 120,
     "metadata": {},
     "output_type": "execute_result"
    }
   ],
   "source": [
    "ans[:10]"
   ]
  },
  {
   "cell_type": "code",
   "execution_count": 121,
   "metadata": {},
   "outputs": [
    {
     "data": {
      "text/plain": [
       "['C#', 'D#', 'F#', 'G#', 'A#', 'F#', 'D#', 'G#', 'G#', 'F']"
      ]
     },
     "execution_count": 121,
     "metadata": {},
     "output_type": "execute_result"
    }
   ],
   "source": [
    "actual_melody[:10]"
   ]
  },
  {
   "cell_type": "code",
   "execution_count": 59,
   "metadata": {},
   "outputs": [],
   "source": [
    "fullsong = miditoolkit.midi.parser.MidiFile(midi_file)\n",
    "allnotes = []\n",
    "for inst in fullsong.instruments:\n",
    "    for note in inst.notes:\n",
    "        allnotes.append(note)\n",
    "# sort by start time\n",
    "allnotes.sort(key=lambda x: x.start)"
   ]
  },
  {
   "cell_type": "code",
   "execution_count": 60,
   "metadata": {},
   "outputs": [],
   "source": [
    "qn = quantize(allnotes,planck=1)"
   ]
  },
  {
   "cell_type": "code",
   "execution_count": 61,
   "metadata": {},
   "outputs": [],
   "source": [
    "unique_boxes =[]\n",
    "for i in range(len(qn)-1):\n",
    "    if i==0:\n",
    "        unique_boxes.append(qn[i])\n",
    "    else:\n",
    "        match = unique_boxes[-1]\n",
    "        cur = qn[i]\n",
    "        flag = True\n",
    "        if len(cur)==len(match):\n",
    "            for j in range(len(match)):\n",
    "                if match[j][0] != cur[j][0]:\n",
    "                    flag = False\n",
    "        else:\n",
    "            flag = False\n",
    "        if not flag:\n",
    "            unique_boxes.append(cur)"
   ]
  },
  {
   "cell_type": "code",
   "execution_count": 74,
   "metadata": {},
   "outputs": [
    {
     "name": "stdout",
     "output_type": "stream",
     "text": [
      "Box 0: ['F#']\n",
      "Box 1: []\n",
      "Box 2: ['D#', 'B']\n",
      "Box 3: ['D#', 'F#', 'B']\n",
      "Box 4: ['F#', 'B']\n",
      "Box 5: ['C#', 'B', 'F#', 'B']\n"
     ]
    }
   ],
   "source": [
    "for i,box in enumerate(unique_boxes):\n",
    "    pitches = []\n",
    "    for note in box:\n",
    "        pitches.append(note[0])\n",
    "    pitches = dropRest(pitches)\n",
    "    pitches = sorted(pitches, reverse=True)\n",
    "    pitches = [get_pitch_name(pitch) for pitch in pitches]\n",
    "    print(\"Box {}: {}\".format(i,pitches))\n",
    "    if i==5:\n",
    "        break"
   ]
  },
  {
   "cell_type": "code",
   "execution_count": 67,
   "metadata": {},
   "outputs": [
    {
     "data": {
      "text/plain": [
       "['F#', 'B', 'F#', 'F#', 'A#', 'C#', 'G#', 'C#', 'F', 'F#']"
      ]
     },
     "execution_count": 67,
     "metadata": {},
     "output_type": "execute_result"
    }
   ],
   "source": [
    "ans[:10]\n"
   ]
  },
  {
   "cell_type": "code",
   "execution_count": 68,
   "metadata": {},
   "outputs": [
    {
     "data": {
      "text/plain": [
       "['C#', 'D#', 'F#', 'G#', 'A#', 'F#', 'D#', 'G#', 'G#', 'F']"
      ]
     },
     "execution_count": 68,
     "metadata": {},
     "output_type": "execute_result"
    }
   ],
   "source": [
    "actual_melody[:10]"
   ]
  },
  {
   "cell_type": "code",
   "execution_count": null,
   "metadata": {},
   "outputs": [],
   "source": []
  },
  {
   "cell_type": "code",
   "execution_count": null,
   "metadata": {},
   "outputs": [],
   "source": []
  },
  {
   "cell_type": "code",
   "execution_count": null,
   "metadata": {},
   "outputs": [],
   "source": []
  },
  {
   "cell_type": "code",
   "execution_count": null,
   "metadata": {},
   "outputs": [],
   "source": []
  },
  {
   "cell_type": "code",
   "execution_count": 17,
   "metadata": {},
   "outputs": [],
   "source": [
    "# OLD:\n",
    "\n",
    "# class Graph:\n",
    "#     def __init__(self, midi_file,weight_matrix):\n",
    "#         self.midi_file = midi_file\n",
    "#         self.box_list = quantize(process_midiFile(midi_file),planck=1)\n",
    "#         self.weight_matrix = weight_matrix\n",
    "#         self.layers = [[] for i in range(len(self.box_list))]\n",
    "#         # each layer will contain [ [(pitch,velocity,[list of weights corresponding next layer])], ... ]\n",
    "    \n",
    "#     def create_graph(self):\n",
    "#         for i in range(len(self.box_list)-1):\n",
    "#             box1 = self.box_list[i]\n",
    "#             box2 = self.box_list[i+1]\n",
    "#             for note1 in box1:\n",
    "#                 weight_list = []\n",
    "#                 for note2 in box2:\n",
    "#                     weight_list.append(self.get_weights(note1,note2))\n",
    "#                 self.layers[i].append([note1, weight_list])\n",
    "    \n",
    "#     def shortestPath(self):\n",
    "#         '''\n",
    "#         input   -> layers information (nD array of numberoflayer,...)\n",
    "#                     layers number of neurons per layer\n",
    "#                 -> dist (3D array of layer,start,end)\n",
    "#                     dist (layer idx, neuron in idx^th layer, neuron in idx+1^th layer)\n",
    "#                 -> neurons (1D array of number of neurons in each layer)\n",
    "\n",
    "#         '''\n",
    "#         # neurons=[]\n",
    "#         # for i in range(len(self.layers)):\n",
    "#         #     neurons.append(len(self.layers[i]))\n",
    "#         # dist=np.zeros((len(self.layers),neurons[0],neurons[-1]))\n",
    "\n",
    "#         layers = []\n",
    "#         for i in range(len(self.layers)):\n",
    "#             layers.append(len(self.layers[i]))\n",
    "        \n",
    "#         neurons = []\n",
    "#         for i in range(len(layers)):\n",
    "#             num_neurons = layers[i]\n",
    "#             neurons.append(np.arange(num_neurons))\n",
    "\n",
    "#         maxnum_neurons = max(layers)\n",
    "#         dist = np.zeros((len(layers),maxnum_neurons,maxnum_neurons))\n",
    "\n",
    "#         for i in range(len(layers)-1):\n",
    "#             for j in range(layers[i]):\n",
    "#                 for k in range(layers[i+1]):\n",
    "#                     dist[i][j][k] = self.weight_matrix[self.layers[i][j][0][0]][self.layers[i+1][k][0][0]]\n",
    "\n",
    "#         emptyarr = [[] for _ in range(len(layers)+1)]\n",
    "#         shortestpaths = [emptyarr.copy() ,emptyarr.copy()]\n",
    "#         shortestpathsdist = []\n",
    "#         for i in range(len(layers)):\n",
    "#             shortestpathsdist.append(np.zeros((layers[i])))\n",
    "#         for i in tqdm(range(len(layers))):\n",
    "#             for j,neuron in enumerate(neurons[i]):\n",
    "#                 if i == 0:\n",
    "#                     shortestpaths[0][j] = [j]\n",
    "#                     shortestpathsdist[i][j] = 0\n",
    "#                 else:\n",
    "#                     dummy = [shortestpathsdist[i-1][k] + dist[i-1][k][j] for k in neurons[i-1]]\n",
    "#                     shortestpathsdist[i][j] = np.min(dummy)\n",
    "#                     prevstate = np.argmin(dummy)\n",
    "#                     shortestpaths[1][j] = (np.append(shortestpaths[0][prevstate].copy(), j))\n",
    "#             shortestpaths[0] = shortestpaths[1].copy()\n",
    "#             shortestpaths[1] = emptyarr.copy()\n",
    "#         return shortestpaths[0]\n",
    "        \n",
    "#     def get_weights(self,note1,note2):\n",
    "#         p1 = note1[0]\n",
    "#         p2 = note2[0]\n",
    "#         return self.weight_matrix[p1][p2]\n",
    "        "
   ]
  },
  {
   "cell_type": "code",
   "execution_count": null,
   "metadata": {},
   "outputs": [],
   "source": []
  }
 ],
 "metadata": {
  "interpreter": {
   "hash": "aee8b7b246df8f9039afb4144a1f6fd8d2ca17a180786b69acc140d282b71a49"
  },
  "kernelspec": {
   "display_name": "Python 3",
   "language": "python",
   "name": "python3"
  },
  "language_info": {
   "codemirror_mode": {
    "name": "ipython",
    "version": 3
   },
   "file_extension": ".py",
   "mimetype": "text/x-python",
   "name": "python",
   "nbconvert_exporter": "python",
   "pygments_lexer": "ipython3",
   "version": "3.7.9"
  }
 },
 "nbformat": 4,
 "nbformat_minor": 2
}
