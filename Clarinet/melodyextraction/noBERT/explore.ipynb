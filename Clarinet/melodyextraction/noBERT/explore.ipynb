{
 "cells": [
  {
   "cell_type": "code",
   "execution_count": 73,
   "metadata": {},
   "outputs": [
    {
     "name": "stdout",
     "output_type": "stream",
     "text": [
      "Mean=186.76045627376425\n",
      "Median=102.0\n",
      "Std=212.8383587453257\n",
      "Min=45\n",
      "Max=936\n",
      "Song Duration=122079\n",
      "ACD=1.3000000000000003\n"
     ]
    }
   ],
   "source": [
    "import numpy as np\n",
    "import miditoolkit\n",
    "from tqdm import tqdm\n",
    "import pandas as pd\n",
    "\n",
    "def corrections(note_lengths,L):\n",
    "    note_lengths=np.array(note_lengths)\n",
    "    l=np.array(note_lengths/L)\n",
    "    f=np.array(np.modf(l)[0])\n",
    "    # g=min(f,1-f)\n",
    "    corrections=L*np.minimum(f,1-f)\n",
    "    return corrections\n",
    "\n",
    "\n",
    "def correctionLoss(note_lengths,L,norm=\"inf\"):\n",
    "    errors=corrections(note_lengths,L)\n",
    "    out=np.linalg.norm(errors,norm)/len(errors)\n",
    "    return(out)\n",
    "\n",
    "def update(L1,correction1,L2,correction2): \n",
    "    if correction1<=correction2:\n",
    "        return True\n",
    "    return False\n",
    "\n",
    "def acd(note_lengths,norm=float(\"inf\")):\n",
    "    start=1.1\n",
    "    end=np.min(note_lengths)\n",
    "    step=0.1\n",
    "\n",
    "    L_range=np.arange(start,end,step)\n",
    "    note_lengths=np.array(note_lengths)\n",
    "\n",
    "    best_L=float('inf') \n",
    "    best_correction=float('inf')\n",
    "    df=pd.DataFrame(columns=[\"L\",\"correction\"])\n",
    "    for L in L_range:\n",
    "        correction=correctionLoss(note_lengths,L,norm)\n",
    "        df=df.append({\"L\":L,\"correction\":correction},ignore_index=True)\n",
    "        if update(L,correction,best_L,best_correction):\n",
    "            best_L,best_correction=L,correction\n",
    "\n",
    "    # Sort df by correction\n",
    "    df=df.sort_values(by=\"correction\")\n",
    "    return best_L,df\n",
    "\n",
    "\n",
    "def planck(midi_file,channel=1,norm=float(\"inf\")):\n",
    "    mid_in=miditoolkit.midi.parser.MidiFile(midi_file)    \n",
    "    notes = mid_in.instruments[channel].notes\n",
    "    # sort by note start and print first note\n",
    "    notes.sort(key=lambda x: x.start)\n",
    "    notes = sorted(notes, key=lambda x: x.pitch)\n",
    "    # Get list of length of notes including rests\n",
    "    note_lengths = []\n",
    "    for i in range(1,len(notes)):\n",
    "        note_lengths.append(notes[i-1].end-notes[i-1].start)\n",
    "    acd_out,df=acd(note_lengths,norm)\n",
    "    # print statistics of note lengths\n",
    "    print(f\"Mean={np.mean(note_lengths)}\")\n",
    "    print(f\"Median={np.median(note_lengths)}\")\n",
    "    print(f\"Std={np.std(note_lengths)}\")\n",
    "    print(f\"Min={np.min(note_lengths)}\")\n",
    "    print(f\"Max={np.max(note_lengths)}\")\n",
    "    # print song duration\n",
    "    notes=sorted(notes, key=lambda x: x.start)\n",
    "    print(f\"Song Duration={notes[-1].end-notes[0].start}\")\n",
    "\n",
    "    print(f\"ACD={acd_out}\")\n",
    "    return df\n",
    "\n",
    "midi_file=\"/Users/rohansharma/Desktop/IIT DELHI/Academics/Sem 5/COL764/Clarinet/Data/Midi/Collection/Original Collection/001.mid\"\n",
    "norm=1\n",
    "channel=0\n",
    "df=planck(midi_file,channel,norm)\n",
    "\n",
    "# If full song has a rest then pick a rest else pick a note while giving option of a rest note\n"
   ]
  },
  {
   "cell_type": "code",
   "execution_count": 74,
   "metadata": {},
   "outputs": [
    {
     "data": {
      "text/plain": [
       "<matplotlib.axes._subplots.AxesSubplot at 0x7fc3a5f511d0>"
      ]
     },
     "execution_count": 74,
     "metadata": {},
     "output_type": "execute_result"
    },
    {
     "data": {
      "image/png": "[encoded data removed]",
      "text/plain": [
       "<Figure size 432x288 with 1 Axes>"
      ]
     },
     "metadata": {
      "needs_background": "light"
     },
     "output_type": "display_data"
    },
    {
     "data": {
      "image/png": "[encoded data removed]",
      "text/plain": [
       "<Figure size 432x288 with 1 Axes>"
      ]
     },
     "metadata": {
      "needs_background": "light"
     },
     "output_type": "display_data"
    }
   ],
   "source": [
    "# plot correction vs L\n",
    "df.plot(x=\"L\",y=\"correction\",kind=\"scatter\")\n",
    "# Sort df by L\n",
    "df=df.sort_values(by=\"L\")\n",
    "\n",
    "def local_minimima(df):\n",
    "    minima=[]\n",
    "    for i in range(1,len(df)):\n",
    "        if df.iloc[i-1,1]>df.iloc[i,1] and df.iloc[i,1]<df.iloc[i+1,1]:\n",
    "            minima.append((df.iloc[i,0],df.iloc[i,1]))\n",
    "    # df with L and minima\n",
    "    df_minima=pd.DataFrame(columns=[\"L\",\"Correction\"])\n",
    "    for i in minima:\n",
    "        df_minima=df_minima.append({\"L\":i[0],\"Correction\":i[1]},ignore_index=True)\n",
    "    return df_minima\n",
    "\n",
    "df_minima=local_minimima(df)\n",
    "df_minima.plot(x=\"L\",y=\"Correction\",kind=\"scatter\")"
   ]
  },
  {
   "cell_type": "code",
   "execution_count": null,
   "metadata": {},
   "outputs": [],
   "source": [
    "def mean_x(factor, values):\n",
    "    return sum([cos(2*pi*v/factor) for v in values])/len(values)\n",
    "\n",
    "def mean_y(factor, values):\n",
    "    return sum([sin(2*pi*v/factor) for v in values])/len(values)\n",
    "\n",
    "def calculatePeriodAppeal(factor, values):\n",
    "    mx = mean_x(factor, values)\n",
    "    my = mean_y(factor, values)\n",
    "    appeal = sqrt(mx^2+my^2)\n",
    "    return appeal\n",
    "\n",
    "def calculateBestLinear(factor, values):\n",
    "    mx = mean_x(factor, values).n()\n",
    "    my = mean_y(factor, values).n()\n",
    "    y0 = factor*atan2(my,mx)/(2*pi).n()\n",
    "    err = 1-sqrt(mx^2+my^2).n()\n",
    "    return [factor*x + y0, err]\n",
    "\n",
    "def calculateGCDAppeal(factor, values):\n",
    "    mx = mean_x(factor, values)\n",
    "    my = mean_y(factor, values)\n",
    "    appeal = 1 - sqrt((mx-1)^2+my^2)/2\n",
    "    return appeal\n",
    "\n",
    "\n",
    "testSeq = [399, 710, 105, 891, 402, 102, 397]\n",
    "gcd = calculateGCDAppeal(x, testSeq)\n",
    "find_local_maximum(gcd,90,110)\n",
    "plot(gcd,(x, 10, 200), scale = \"semilogx\")"
   ]
  }
 ],
 "metadata": {
  "interpreter": {
   "hash": "40d3a090f54c6569ab1632332b64b2c03c39dcf918b08424e98f38b5ae0af88f"
  },
  "kernelspec": {
   "display_name": "Python 3.7.6 ('base')",
   "language": "python",
   "name": "python3"
  },
  "language_info": {
   "codemirror_mode": {
    "name": "ipython",
    "version": 3
   },
   "file_extension": ".py",
   "mimetype": "text/x-python",
   "name": "python",
   "nbconvert_exporter": "python",
   "pygments_lexer": "ipython3",
   "version": "3.7.6"
  },
  "orig_nbformat": 4
 },
 "nbformat": 4,
 "nbformat_minor": 2
}
