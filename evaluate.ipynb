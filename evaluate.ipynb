{
 "cells": [
  {
   "cell_type": "code",
   "execution_count": 2,
   "metadata": {},
   "outputs": [],
   "source": [
    "from Clarinet.melodyextraction.noBERT.song2graph import song2graph\n",
    "from Clarinet.utils.convert import midi2text\n",
    "from Clarinet.search import similarity\n",
    "import os\n",
    "import pandas as pd\n",
    "from matplotlib import pyplot as plt\n",
    "import random\n",
    "from tqdm import tqdm\n",
    "import numpy as np"
   ]
  },
  {
   "cell_type": "code",
   "execution_count": 2,
   "metadata": {},
   "outputs": [],
   "source": [
    "pitch_map = {\n",
    "    12: \"C\",\n",
    "    13: \"C#\",\n",
    "    14: \"D\",\n",
    "    15: \"D#\",\n",
    "    16: \"E\",\n",
    "    17: \"F\",\n",
    "    18: \"F#\",\n",
    "    19: \"G\",\n",
    "    20: \"G#\",\n",
    "    21: \"A\",\n",
    "    22: \"A#\",\n",
    "    23: \"B\"\n",
    "    }\n",
    "def get_pitch_name(pitch):\n",
    "    num = pitch % 12\n",
    "    return pitch_map[num + 12]"
   ]
  },
  {
   "cell_type": "code",
   "execution_count": 3,
   "metadata": {},
   "outputs": [],
   "source": [
    "def dropRest(melody):\n",
    "    new_melody = []\n",
    "    for i in range(len(melody)):\n",
    "        if melody[i] != 129:\n",
    "            new_melody.append(melody[i])\n",
    "    return new_melody"
   ]
  },
  {
   "cell_type": "code",
   "execution_count": 10,
   "metadata": {},
   "outputs": [],
   "source": [
    "def loadWeight(numpy_folder):\n",
    "    #return np.load(numpy_folder+\"/weight.npy\")\n",
    "    return np.load(numpy_folder+\"/melodic.npy\")\n",
    "\n",
    "weights = loadWeight(\"Data/Numpy/noBERT\")\n",
    "weights = -1 * weights"
   ]
  },
  {
   "cell_type": "code",
   "execution_count": 11,
   "metadata": {},
   "outputs": [],
   "source": [
    "def evaluate(midi_file):\n",
    "    actual=midi2text(midi_file)\n",
    "    g=song2graph(midi_file,weights)\n",
    "    melody = g.melody()\n",
    "    melody = dropRest(melody)\n",
    "    predicted = [get_pitch_name(pitch) for pitch in melody]\n",
    "    predicted=\"\".join(predicted)\n",
    "\n",
    "    return(similarity(predicted,actual),predicted,actual)"
   ]
  },
  {
   "cell_type": "code",
   "execution_count": 12,
   "metadata": {},
   "outputs": [],
   "source": [
    "def evaluateFolder(midi_folder,num_files=-1):\n",
    "    files=sorted([f\"{midi_folder}/{filename}\" for filename in os.listdir(midi_folder)])\n",
    "    if num_files==-1:\n",
    "        num_files=len(files)\n",
    "    df=pd.DataFrame(columns=[\"Filename\",\"Score\",\"Predicted\",\"Actual\"])\n",
    "    for i in tqdm(range(num_files)):\n",
    "        file=files[i]\n",
    "        score,predicted,actual=evaluate(file)\n",
    "        df=df.append({\"Filename\":file,\"Score\":score,\"Predicted\":predicted,\"Actual\":actual},ignore_index=True)\n",
    "    return(df)"
   ]
  },
  {
   "cell_type": "code",
   "execution_count": 22,
   "metadata": {},
   "outputs": [
    {
     "name": "stdout",
     "output_type": "stream",
     "text": [
      "P\n",
      "                                           Filename  Score Predicted  \\\n",
      "0  Data/MIDI/Collection/Original Collection/001.mid    1.0        A#   \n",
      "1  Data/MIDI/Collection/Original Collection/002.mid    1.0        A#   \n",
      "\n",
      "                                              Actual  \n",
      "0  C#D#F#G#A#F#D#G#G#FC#F#C#D#F#G#A#F#D#G#C#G#F#F...  \n",
      "1  D#C#D#C#D#BA#BC#BA#BA#BBA#G#A#D#C#D#C#D#G#F#C#...  \n"
     ]
    },
    {
     "data": {
      "text/html": [
       "<div>\n",
       "<style scoped>\n",
       "    .dataframe tbody tr th:only-of-type {\n",
       "        vertical-align: middle;\n",
       "    }\n",
       "\n",
       "    .dataframe tbody tr th {\n",
       "        vertical-align: top;\n",
       "    }\n",
       "\n",
       "    .dataframe thead th {\n",
       "        text-align: right;\n",
       "    }\n",
       "</style>\n",
       "<table border=\"1\" class=\"dataframe\">\n",
       "  <thead>\n",
       "    <tr style=\"text-align: right;\">\n",
       "      <th></th>\n",
       "      <th>Score</th>\n",
       "    </tr>\n",
       "  </thead>\n",
       "  <tbody>\n",
       "    <tr>\n",
       "      <th>mean</th>\n",
       "      <td>1.0</td>\n",
       "    </tr>\n",
       "    <tr>\n",
       "      <th>std</th>\n",
       "      <td>0.0</td>\n",
       "    </tr>\n",
       "    <tr>\n",
       "      <th>min</th>\n",
       "      <td>1.0</td>\n",
       "    </tr>\n",
       "    <tr>\n",
       "      <th>25%</th>\n",
       "      <td>1.0</td>\n",
       "    </tr>\n",
       "    <tr>\n",
       "      <th>50%</th>\n",
       "      <td>1.0</td>\n",
       "    </tr>\n",
       "    <tr>\n",
       "      <th>75%</th>\n",
       "      <td>1.0</td>\n",
       "    </tr>\n",
       "    <tr>\n",
       "      <th>max</th>\n",
       "      <td>1.0</td>\n",
       "    </tr>\n",
       "  </tbody>\n",
       "</table>\n",
       "</div>"
      ],
      "text/plain": [
       "      Score\n",
       "mean    1.0\n",
       "std     0.0\n",
       "min     1.0\n",
       "25%     1.0\n",
       "50%     1.0\n",
       "75%     1.0\n",
       "max     1.0"
      ]
     },
     "execution_count": 22,
     "metadata": {},
     "output_type": "execute_result"
    },
    {
     "data": {
      "image/png": "[encoded data removed]",
      "text/plain": [
       "<Figure size 432x288 with 1 Axes>"
      ]
     },
     "metadata": {
      "needs_background": "light"
     },
     "output_type": "display_data"
    }
   ],
   "source": [
    "print(\"P\")\n",
    "df=pd.read_csv(\"Results/Melody/results_p.csv\")\n",
    "\n",
    "print(df.head())\n",
    "# plot histogram of scores\n",
    "plt.hist(df[\"Score\"])\n",
    "# label hist\n",
    "plt.xlabel(\"Score\")\n",
    "plt.ylabel(\"Frequency\")\n",
    "plt.title(\"Histogram of Scores\")\n",
    "\n",
    "df_stats=df.describe()\n",
    "df_stats.drop(df_stats.index[0])\n"
   ]
  },
  {
   "cell_type": "code",
   "execution_count": 43,
   "metadata": {},
   "outputs": [
    {
     "name": "stdout",
     "output_type": "stream",
     "text": [
      "W\n"
     ]
    },
    {
     "name": "stderr",
     "output_type": "stream",
     "text": [
      "100%|██████████| 10/10 [01:38<00:00,  9.82s/it]\n"
     ]
    },
    {
     "data": {
      "image/png": "[encoded data removed]",
      "text/plain": [
       "<Figure size 432x288 with 1 Axes>"
      ]
     },
     "metadata": {
      "needs_background": "light"
     },
     "output_type": "display_data"
    }
   ],
   "source": [
    "# midi_folder=\"/Users/kshitij1/Documents/GitHub/Clarinet/Data/Midi/Collection/Original Collection\"\n",
    "# df=evaluateFolder(midi_folder,num_files=20)\n",
    "\n",
    "print(\"W\")\n",
    "df=pd.read_csv(\"Results/Melody/results_w.csv\")\n",
    "# print(df.head())\n",
    "# print  predicted, actual of first row of df\n",
    "predicted=df.iloc[0]['Predicted']\n",
    "# plot histogram of scores\n",
    "plt.hist(df[\"Score\"])\n",
    "# label hist\n",
    "plt.xlabel(\"Score\")\n",
    "plt.ylabel(\"Frequency\")\n",
    "plt.title(\"Histogram of Scores\")\n",
    "\n",
    "df_stats=df.describe()\n",
    "df_stats.drop(df_stats.index[0])\n",
    "\n",
    "test_df=pd.DataFrame(columns=[\"Filename\",\"Score\"])\n",
    "text_folder=\"Data/Text/Collection/Original Collection\"\n",
    "files=sorted([f\"{text_folder}/{filename}\" for filename in os.listdir(text_folder)])\n",
    "for i in tqdm(range(10)):\n",
    "    file=files[i]\n",
    "    with open(file,\"r\") as f:\n",
    "        actual=f.read()\n",
    "    score=similarity(predicted,actual)\n",
    "    test_df=test_df.append({\"Filename\":file,\"Score\":score},ignore_index=True)\n",
    "    # Sort test_df descending\n",
    "test_df=test_df.sort_values(by=[\"Score\"],ascending=False)"
   ]
  },
  {
   "cell_type": "code",
   "execution_count": 44,
   "metadata": {},
   "outputs": [
    {
     "data": {
      "text/html": [
       "<div>\n",
       "<style scoped>\n",
       "    .dataframe tbody tr th:only-of-type {\n",
       "        vertical-align: middle;\n",
       "    }\n",
       "\n",
       "    .dataframe tbody tr th {\n",
       "        vertical-align: top;\n",
       "    }\n",
       "\n",
       "    .dataframe thead th {\n",
       "        text-align: right;\n",
       "    }\n",
       "</style>\n",
       "<table border=\"1\" class=\"dataframe\">\n",
       "  <thead>\n",
       "    <tr style=\"text-align: right;\">\n",
       "      <th></th>\n",
       "      <th>Filename</th>\n",
       "      <th>Score</th>\n",
       "    </tr>\n",
       "  </thead>\n",
       "  <tbody>\n",
       "    <tr>\n",
       "      <th>0</th>\n",
       "      <td>Data/Text/Collection/Original Collection/001.txt</td>\n",
       "      <td>0.596737</td>\n",
       "    </tr>\n",
       "    <tr>\n",
       "      <th>8</th>\n",
       "      <td>Data/Text/Collection/Original Collection/009.txt</td>\n",
       "      <td>0.561772</td>\n",
       "    </tr>\n",
       "    <tr>\n",
       "      <th>1</th>\n",
       "      <td>Data/Text/Collection/Original Collection/002.txt</td>\n",
       "      <td>0.510490</td>\n",
       "    </tr>\n",
       "    <tr>\n",
       "      <th>3</th>\n",
       "      <td>Data/Text/Collection/Original Collection/004.txt</td>\n",
       "      <td>0.470862</td>\n",
       "    </tr>\n",
       "    <tr>\n",
       "      <th>7</th>\n",
       "      <td>Data/Text/Collection/Original Collection/008.txt</td>\n",
       "      <td>0.433566</td>\n",
       "    </tr>\n",
       "    <tr>\n",
       "      <th>5</th>\n",
       "      <td>Data/Text/Collection/Original Collection/006.txt</td>\n",
       "      <td>0.391608</td>\n",
       "    </tr>\n",
       "    <tr>\n",
       "      <th>6</th>\n",
       "      <td>Data/Text/Collection/Original Collection/007.txt</td>\n",
       "      <td>0.351981</td>\n",
       "    </tr>\n",
       "    <tr>\n",
       "      <th>2</th>\n",
       "      <td>Data/Text/Collection/Original Collection/003.txt</td>\n",
       "      <td>0.335664</td>\n",
       "    </tr>\n",
       "    <tr>\n",
       "      <th>9</th>\n",
       "      <td>Data/Text/Collection/Original Collection/010.txt</td>\n",
       "      <td>0.261072</td>\n",
       "    </tr>\n",
       "    <tr>\n",
       "      <th>4</th>\n",
       "      <td>Data/Text/Collection/Original Collection/005.txt</td>\n",
       "      <td>0.258741</td>\n",
       "    </tr>\n",
       "  </tbody>\n",
       "</table>\n",
       "</div>"
      ],
      "text/plain": [
       "                                           Filename     Score\n",
       "0  Data/Text/Collection/Original Collection/001.txt  0.596737\n",
       "8  Data/Text/Collection/Original Collection/009.txt  0.561772\n",
       "1  Data/Text/Collection/Original Collection/002.txt  0.510490\n",
       "3  Data/Text/Collection/Original Collection/004.txt  0.470862\n",
       "7  Data/Text/Collection/Original Collection/008.txt  0.433566\n",
       "5  Data/Text/Collection/Original Collection/006.txt  0.391608\n",
       "6  Data/Text/Collection/Original Collection/007.txt  0.351981\n",
       "2  Data/Text/Collection/Original Collection/003.txt  0.335664\n",
       "9  Data/Text/Collection/Original Collection/010.txt  0.261072\n",
       "4  Data/Text/Collection/Original Collection/005.txt  0.258741"
      ]
     },
     "execution_count": 44,
     "metadata": {},
     "output_type": "execute_result"
    }
   ],
   "source": [
    "test_df"
   ]
  }
 ],
 "metadata": {
  "interpreter": {
   "hash": "40d3a090f54c6569ab1632332b64b2c03c39dcf918b08424e98f38b5ae0af88f"
  },
  "kernelspec": {
   "display_name": "Python 3.7.6 ('base')",
   "language": "python",
   "name": "python3"
  },
  "language_info": {
   "codemirror_mode": {
    "name": "ipython",
    "version": 3
   },
   "file_extension": ".py",
   "mimetype": "text/x-python",
   "name": "python",
   "nbconvert_exporter": "python",
   "pygments_lexer": "ipython3",
   "version": "3.7.6"
  },
  "orig_nbformat": 4
 },
 "nbformat": 4,
 "nbformat_minor": 2
}
