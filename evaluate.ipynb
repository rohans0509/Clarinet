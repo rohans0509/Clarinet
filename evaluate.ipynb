{
 "cells": [
  {
   "cell_type": "code",
   "execution_count": 1,
   "metadata": {},
   "outputs": [],
   "source": [
    "from Clarinet.melodyextraction.noBERT.song2graph import song2graph\n",
    "from Clarinet.utils.convert import midi2text\n",
    "from Clarinet.search import similarity\n",
    "import os\n",
    "import pandas as pd\n",
    "from matplotlib import pyplot as plt\n",
    "import random\n",
    "from tqdm import tqdm\n",
    "import numpy as np"
   ]
  },
  {
   "cell_type": "code",
   "execution_count": 2,
   "metadata": {},
   "outputs": [],
   "source": [
    "pitch_map = {\n",
    "    12: \"C\",\n",
    "    13: \"C#\",\n",
    "    14: \"D\",\n",
    "    15: \"D#\",\n",
    "    16: \"E\",\n",
    "    17: \"F\",\n",
    "    18: \"F#\",\n",
    "    19: \"G\",\n",
    "    20: \"G#\",\n",
    "    21: \"A\",\n",
    "    22: \"A#\",\n",
    "    23: \"B\"\n",
    "    }\n",
    "def get_pitch_name(pitch):\n",
    "    num = pitch % 12\n",
    "    return pitch_map[num + 12]"
   ]
  },
  {
   "cell_type": "code",
   "execution_count": 3,
   "metadata": {},
   "outputs": [],
   "source": [
    "def dropRest(melody):\n",
    "    new_melody = []\n",
    "    for i in range(len(melody)):\n",
    "        if melody[i] != 129:\n",
    "            new_melody.append(melody[i])\n",
    "    return new_melody"
   ]
  },
  {
   "cell_type": "code",
   "execution_count": 10,
   "metadata": {},
   "outputs": [],
   "source": [
    "def loadWeight(numpy_folder):\n",
    "    #return np.load(numpy_folder+\"/weight.npy\")\n",
    "    return np.load(numpy_folder+\"/melodic.npy\")\n",
    "\n",
    "weights = loadWeight(\"Data/Numpy/noBERT\")\n",
    "weights = -1 * weights"
   ]
  },
  {
   "cell_type": "code",
   "execution_count": 11,
   "metadata": {},
   "outputs": [],
   "source": [
    "def evaluate(midi_file):\n",
    "    actual=midi2text(midi_file)\n",
    "    g=song2graph(midi_file,weights)\n",
    "    melody = g.melody()\n",
    "    melody = dropRest(melody)\n",
    "    predicted = [get_pitch_name(pitch) for pitch in melody]\n",
    "    predicted=\"\".join(predicted)\n",
    "\n",
    "    return(similarity(predicted,actual))"
   ]
  },
  {
   "cell_type": "code",
   "execution_count": 12,
   "metadata": {},
   "outputs": [],
   "source": [
    "def evaluateFolder(midi_folder,num_files=-1):\n",
    "    files=sorted([f\"{midi_folder}/{filename}\" for filename in os.listdir(midi_folder)])\n",
    "    if num_files==-1:\n",
    "        num_files=len(files)\n",
    "    df=pd.DataFrame(columns=[\"Filename\",\"Score\"])\n",
    "    for i in tqdm(range(num_files)):\n",
    "        file=files[i]\n",
    "        score=evaluate(file)\n",
    "        df=df.append({\"Filename\":file,\"Score\":score},ignore_index=True)\n",
    "    return(df)"
   ]
  },
  {
   "cell_type": "code",
   "execution_count": 14,
   "metadata": {},
   "outputs": [
    {
     "name": "stderr",
     "output_type": "stream",
     "text": [
      "100%|██████████| 20/20 [05:00<00:00, 15.03s/it]\n"
     ]
    },
    {
     "data": {
      "text/html": [
       "<div>\n",
       "<style scoped>\n",
       "    .dataframe tbody tr th:only-of-type {\n",
       "        vertical-align: middle;\n",
       "    }\n",
       "\n",
       "    .dataframe tbody tr th {\n",
       "        vertical-align: top;\n",
       "    }\n",
       "\n",
       "    .dataframe thead th {\n",
       "        text-align: right;\n",
       "    }\n",
       "</style>\n",
       "<table border=\"1\" class=\"dataframe\">\n",
       "  <thead>\n",
       "    <tr style=\"text-align: right;\">\n",
       "      <th></th>\n",
       "      <th>Score</th>\n",
       "    </tr>\n",
       "  </thead>\n",
       "  <tbody>\n",
       "    <tr>\n",
       "      <th>mean</th>\n",
       "      <td>0.503441</td>\n",
       "    </tr>\n",
       "    <tr>\n",
       "      <th>std</th>\n",
       "      <td>0.086142</td>\n",
       "    </tr>\n",
       "    <tr>\n",
       "      <th>min</th>\n",
       "      <td>0.336634</td>\n",
       "    </tr>\n",
       "    <tr>\n",
       "      <th>25%</th>\n",
       "      <td>0.435268</td>\n",
       "    </tr>\n",
       "    <tr>\n",
       "      <th>50%</th>\n",
       "      <td>0.509259</td>\n",
       "    </tr>\n",
       "    <tr>\n",
       "      <th>75%</th>\n",
       "      <td>0.569746</td>\n",
       "    </tr>\n",
       "    <tr>\n",
       "      <th>max</th>\n",
       "      <td>0.666667</td>\n",
       "    </tr>\n",
       "  </tbody>\n",
       "</table>\n",
       "</div>"
      ],
      "text/plain": [
       "         Score\n",
       "mean  0.503441\n",
       "std   0.086142\n",
       "min   0.336634\n",
       "25%   0.435268\n",
       "50%   0.509259\n",
       "75%   0.569746\n",
       "max   0.666667"
      ]
     },
     "execution_count": 14,
     "metadata": {},
     "output_type": "execute_result"
    },
    {
     "data": {
      "image/png": "[encoded data removed]",
      "text/plain": [
       "<Figure size 432x288 with 1 Axes>"
      ]
     },
     "metadata": {
      "needs_background": "light"
     },
     "output_type": "display_data"
    }
   ],
   "source": [
    "midi_folder=\"/Users/kshitij1/Documents/GitHub/Clarinet/Data/Midi/Collection/Original Collection\"\n",
    "df=evaluateFolder(midi_folder,num_files=20)\n",
    "\n",
    "\n",
    "\n",
    "\n",
    "# plot histogram of scores\n",
    "plt.hist(df[\"Score\"])\n",
    "# label hist\n",
    "plt.xlabel(\"Score\")\n",
    "plt.ylabel(\"Frequency\")\n",
    "plt.title(\"Histogram of Scores\")\n",
    "\n",
    "df_stats=df.describe()\n",
    "df_stats.drop(df_stats.index[0])"
   ]
  },
  {
   "cell_type": "code",
   "execution_count": null,
   "metadata": {},
   "outputs": [],
   "source": []
  }
 ],
 "metadata": {
  "interpreter": {
   "hash": "40d3a090f54c6569ab1632332b64b2c03c39dcf918b08424e98f38b5ae0af88f"
  },
  "kernelspec": {
   "display_name": "Python 3.7.6 ('base')",
   "language": "python",
   "name": "python3"
  },
  "language_info": {
   "codemirror_mode": {
    "name": "ipython",
    "version": 3
   },
   "file_extension": ".py",
   "mimetype": "text/x-python",
   "name": "python",
   "nbconvert_exporter": "python",
   "pygments_lexer": "ipython3",
   "version": "3.7.9"
  },
  "orig_nbformat": 4
 },
 "nbformat": 4,
 "nbformat_minor": 2
}
