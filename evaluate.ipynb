{
 "cells": [
  {
   "cell_type": "code",
   "execution_count": 2,
   "metadata": {},
   "outputs": [],
   "source": [
    "from Clarinet.melodyextraction.noBERT.song2graph import song2graph\n",
    "from Clarinet.utils.convert import midi2text\n",
    "from Clarinet.search import similarity\n",
    "import os\n",
    "import pandas as pd\n",
    "from matplotlib import pyplot as plt\n",
    "import random\n",
    "from tqdm import tqdm"
   ]
  },
  {
   "cell_type": "code",
   "execution_count": 3,
   "metadata": {},
   "outputs": [],
   "source": [
    "def evaluate(midi_file):\n",
    "    actual=midi2text(midi_file)\n",
    "    g=song2graph(midi_file)\n",
    "    predicted=\"\".join(g.melody())\n",
    "\n",
    "    return(similarity(predicted,actual))"
   ]
  },
  {
   "cell_type": "code",
   "execution_count": null,
   "metadata": {},
   "outputs": [],
   "source": [
    "def evaluateFolder(midi_folder,num_files=-1):\n",
    "    files=sorted([f\"{midi_folder}/{filename}\" for filename in os.listdir(midi_folder)])\n",
    "    if num_files==-1:\n",
    "        num_files=len(files)\n",
    "    df=pd.DataFrame(columns=[\"Filename\",\"Score\"])\n",
    "    for i in tqdm(range(num_files)):\n",
    "        file=files[i]\n",
    "        score=evaluate(file)\n",
    "        df=df.append({\"Filename\":file,\"Score\":score},ignore_index=True)\n",
    "    return(df)"
   ]
  },
  {
   "cell_type": "code",
   "execution_count": 5,
   "metadata": {},
   "outputs": [
    {
     "data": {
      "text/html": [
       "<div>\n",
       "<style scoped>\n",
       "    .dataframe tbody tr th:only-of-type {\n",
       "        vertical-align: middle;\n",
       "    }\n",
       "\n",
       "    .dataframe tbody tr th {\n",
       "        vertical-align: top;\n",
       "    }\n",
       "\n",
       "    .dataframe thead th {\n",
       "        text-align: right;\n",
       "    }\n",
       "</style>\n",
       "<table border=\"1\" class=\"dataframe\">\n",
       "  <thead>\n",
       "    <tr style=\"text-align: right;\">\n",
       "      <th></th>\n",
       "      <th>Score</th>\n",
       "    </tr>\n",
       "  </thead>\n",
       "  <tbody>\n",
       "    <tr>\n",
       "      <th>mean</th>\n",
       "      <td>0.505752</td>\n",
       "    </tr>\n",
       "    <tr>\n",
       "      <th>std</th>\n",
       "      <td>0.282552</td>\n",
       "    </tr>\n",
       "    <tr>\n",
       "      <th>min</th>\n",
       "      <td>0.002836</td>\n",
       "    </tr>\n",
       "    <tr>\n",
       "      <th>25%</th>\n",
       "      <td>0.279721</td>\n",
       "    </tr>\n",
       "    <tr>\n",
       "      <th>50%</th>\n",
       "      <td>0.509952</td>\n",
       "    </tr>\n",
       "    <tr>\n",
       "      <th>75%</th>\n",
       "      <td>0.748537</td>\n",
       "    </tr>\n",
       "    <tr>\n",
       "      <th>max</th>\n",
       "      <td>0.999595</td>\n",
       "    </tr>\n",
       "  </tbody>\n",
       "</table>\n",
       "</div>"
      ],
      "text/plain": [
       "         Score\n",
       "mean  0.505752\n",
       "std   0.282552\n",
       "min   0.002836\n",
       "25%   0.279721\n",
       "50%   0.509952\n",
       "75%   0.748537\n",
       "max   0.999595"
      ]
     },
     "execution_count": 5,
     "metadata": {},
     "output_type": "execute_result"
    },
    {
     "data": {
      "image/png": "[encoded data removed]",
      "text/plain": [
       "<Figure size 432x288 with 1 Axes>"
      ]
     },
     "metadata": {
      "needs_background": "light"
     },
     "output_type": "display_data"
    }
   ],
   "source": [
    "midi_folder=\"\"\n",
    "# df=evaluateFolder(midi_folder)\n",
    "# Make a dummy df\n",
    "df=pd.DataFrame(columns=[\"Filename\",\"Score\"])\n",
    "\n",
    "for i in range(909):\n",
    "    score=random.random()\n",
    "    df=df.append({\"Filename\":f\"{i}\",\"Score\":score},ignore_index=True)\n",
    "\n",
    "\n",
    "\n",
    "# plot histogram of scores\n",
    "plt.hist(df[\"Score\"])\n",
    "# label hist\n",
    "plt.xlabel(\"Score\")\n",
    "plt.ylabel(\"Frequency\")\n",
    "plt.title(\"Histogram of Scores\")\n",
    "\n",
    "df_stats=df.describe()\n",
    "df_stats.drop(df_stats.index[0])"
   ]
  }
 ],
 "metadata": {
  "interpreter": {
   "hash": "40d3a090f54c6569ab1632332b64b2c03c39dcf918b08424e98f38b5ae0af88f"
  },
  "kernelspec": {
   "display_name": "Python 3.7.6 ('base')",
   "language": "python",
   "name": "python3"
  },
  "language_info": {
   "codemirror_mode": {
    "name": "ipython",
    "version": 3
   },
   "file_extension": ".py",
   "mimetype": "text/x-python",
   "name": "python",
   "nbconvert_exporter": "python",
   "pygments_lexer": "ipython3",
   "version": "3.7.6"
  },
  "orig_nbformat": 4
 },
 "nbformat": 4,
 "nbformat_minor": 2
}
