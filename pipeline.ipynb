{
 "cells": [
  {
   "cell_type": "markdown",
   "metadata": {},
   "source": [
    "# Pipeline\n",
    "MIDI → User Model → Used Midi → Query Text"
   ]
  },
  {
   "cell_type": "markdown",
   "metadata": {},
   "source": [
    "### Imports"
   ]
  },
  {
   "cell_type": "code",
   "execution_count": 2,
   "metadata": {},
   "outputs": [],
   "source": [
    "from Clarinet.utils.generatedata import genTextQueries,genMidiQueries"
   ]
  },
  {
   "cell_type": "markdown",
   "metadata": {},
   "source": [
    "# Ideal User"
   ]
  },
  {
   "cell_type": "code",
   "execution_count": 3,
   "metadata": {},
   "outputs": [
    {
     "name": "stderr",
     "output_type": "stream",
     "text": [
      "100%|██████████| 2/2 [00:00<00:00, 13.62it/s]\n",
      "100%|██████████| 1/1 [00:00<00:00,  6.36it/s]\n"
     ]
    }
   ],
   "source": [
    "from Clarinet.utils.generatedata import genTextQueries\n",
    "\n",
    "collection_dir=\"Data/Midi/Collection/Original Collection\"\n",
    "type=\"Ideal\"\n",
    "output_folder=f\"Data/Midi/Queries/{type} Queries\"\n",
    "\n",
    "delete_data=True # If delete_data is True, all files in output_folder are deleted. \n",
    "                # If delete_data is False, all files in output_folder are moved to discarded.\n",
    "num_notes=15\n",
    "num_queries=2\n",
    "\n",
    "args=[]\n",
    "kwargs={\"channel\":[0]}\n",
    "\n",
    "genTextQueries(collection_dir,type,output_folder,delete_data,num_notes,num_queries,*args,**kwargs)"
   ]
  },
  {
   "cell_type": "markdown",
   "metadata": {},
   "source": [
    "# Noisy User"
   ]
  },
  {
   "cell_type": "code",
   "execution_count": 6,
   "metadata": {},
   "outputs": [
    {
     "name": "stderr",
     "output_type": "stream",
     "text": [
      "100%|██████████| 909/909 [01:00<00:00, 14.98it/s]\n",
      " 12%|█▏        | 111/909 [00:07<00:51, 15.58it/s]\n",
      "  1%|          | 1/125 [01:07<2:20:10, 67.83s/it]\n"
     ]
    },
    {
     "ename": "KeyboardInterrupt",
     "evalue": "",
     "output_type": "error",
     "traceback": [
      "\u001b[0;31m---------------------------------------------------------------------------\u001b[0m",
      "\u001b[0;31mKeyboardInterrupt\u001b[0m                         Traceback (most recent call last)",
      "\u001b[0;32m<ipython-input-6-e316b692ac92>\u001b[0m in \u001b[0;36m<module>\u001b[0;34m\u001b[0m\n\u001b[1;32m     18\u001b[0m \"length\":[0]}\n\u001b[1;32m     19\u001b[0m \u001b[0;34m\u001b[0m\u001b[0m\n\u001b[0;32m---> 20\u001b[0;31m \u001b[0mgenTextQueries\u001b[0m\u001b[0;34m(\u001b[0m\u001b[0mcollection_dir\u001b[0m\u001b[0;34m,\u001b[0m\u001b[0mtype\u001b[0m\u001b[0;34m,\u001b[0m\u001b[0moutput_folder\u001b[0m\u001b[0;34m,\u001b[0m\u001b[0mdelete_data\u001b[0m\u001b[0;34m,\u001b[0m\u001b[0mnum_notes\u001b[0m\u001b[0;34m,\u001b[0m\u001b[0mnum_queries\u001b[0m\u001b[0;34m,\u001b[0m\u001b[0;34m**\u001b[0m\u001b[0mkwargs\u001b[0m\u001b[0;34m)\u001b[0m\u001b[0;34m\u001b[0m\u001b[0;34m\u001b[0m\u001b[0m\n\u001b[0m",
      "\u001b[0;32m~/Desktop/IIT DELHI/Academics/Sem 5/COL764/Clarinet/Clarinet/utils/generatedata/queries.py\u001b[0m in \u001b[0;36mgenTextQueries\u001b[0;34m(collection_dir, type, output_folder, delete_data, num_notes, num_queries, *args, **kwargs)\u001b[0m\n\u001b[1;32m    110\u001b[0m         \u001b[0moutput_dir\u001b[0m\u001b[0;34m=\u001b[0m\u001b[0;34mf\"{output_folder}/{'/'.join(name_list)}\"\u001b[0m\u001b[0;34m\u001b[0m\u001b[0;34m\u001b[0m\u001b[0m\n\u001b[1;32m    111\u001b[0m \u001b[0;34m\u001b[0m\u001b[0m\n\u001b[0;32m--> 112\u001b[0;31m         \u001b[0museFolder\u001b[0m\u001b[0;34m(\u001b[0m\u001b[0mcollection_dir\u001b[0m\u001b[0;34m,\u001b[0m\u001b[0moutput_dir\u001b[0m\u001b[0;34m,\u001b[0m\u001b[0mtype\u001b[0m\u001b[0;34m,\u001b[0m\u001b[0mnum_notes\u001b[0m\u001b[0;34m=\u001b[0m\u001b[0mnum_notes\u001b[0m\u001b[0;34m,\u001b[0m\u001b[0mnum_queries\u001b[0m\u001b[0;34m=\u001b[0m\u001b[0mnum_queries\u001b[0m\u001b[0;34m,\u001b[0m\u001b[0mtext\u001b[0m\u001b[0;34m=\u001b[0m\u001b[0;32mTrue\u001b[0m\u001b[0;34m,\u001b[0m\u001b[0;34m*\u001b[0m\u001b[0margs\u001b[0m\u001b[0;34m,\u001b[0m\u001b[0;34m**\u001b[0m\u001b[0mkwargs\u001b[0m\u001b[0;34m)\u001b[0m\u001b[0;34m\u001b[0m\u001b[0;34m\u001b[0m\u001b[0m\n\u001b[0m\u001b[1;32m    113\u001b[0m \u001b[0;34m\u001b[0m\u001b[0m\n\u001b[1;32m    114\u001b[0m \u001b[0;34m\u001b[0m\u001b[0m\n",
      "\u001b[0;32m~/Desktop/IIT DELHI/Academics/Sem 5/COL764/Clarinet/Clarinet/utils/generatedata/queries.py\u001b[0m in \u001b[0;36museFolder\u001b[0;34m(collection_dir, output_folder, type, num_queries, num_notes, text, *args, **kwargs)\u001b[0m\n\u001b[1;32m    142\u001b[0m     \u001b[0;32mfor\u001b[0m \u001b[0mfname\u001b[0m \u001b[0;32min\u001b[0m \u001b[0mtqdm\u001b[0m\u001b[0;34m(\u001b[0m\u001b[0mfiles\u001b[0m\u001b[0;34m)\u001b[0m\u001b[0;34m:\u001b[0m\u001b[0;34m\u001b[0m\u001b[0;34m\u001b[0m\u001b[0m\n\u001b[1;32m    143\u001b[0m         \u001b[0muser\u001b[0m\u001b[0;34m=\u001b[0m\u001b[0mUser\u001b[0m\u001b[0;34m(\u001b[0m\u001b[0mtype\u001b[0m\u001b[0;34m)\u001b[0m\u001b[0;34m\u001b[0m\u001b[0;34m\u001b[0m\u001b[0m\n\u001b[0;32m--> 144\u001b[0;31m         \u001b[0mmido_in\u001b[0m\u001b[0;34m=\u001b[0m\u001b[0muser\u001b[0m\u001b[0;34m.\u001b[0m\u001b[0muse\u001b[0m\u001b[0;34m(\u001b[0m\u001b[0mmidi_file\u001b[0m\u001b[0;34m=\u001b[0m\u001b[0;34mf\"{collection_dir}/{fname}\"\u001b[0m\u001b[0;34m,\u001b[0m\u001b[0moutput_folder\u001b[0m\u001b[0;34m=\u001b[0m\u001b[0moutput_folder\u001b[0m\u001b[0;34m,\u001b[0m\u001b[0msave\u001b[0m\u001b[0;34m=\u001b[0m\u001b[0;32mFalse\u001b[0m\u001b[0;34m,\u001b[0m\u001b[0;34m*\u001b[0m\u001b[0margs\u001b[0m\u001b[0;34m,\u001b[0m\u001b[0;34m**\u001b[0m\u001b[0mkwargs\u001b[0m\u001b[0;34m)\u001b[0m\u001b[0;34m\u001b[0m\u001b[0;34m\u001b[0m\u001b[0m\n\u001b[0m\u001b[1;32m    145\u001b[0m \u001b[0;34m\u001b[0m\u001b[0m\n\u001b[1;32m    146\u001b[0m         \u001b[0mflag\u001b[0m\u001b[0;34m,\u001b[0m \u001b[0mmido_obj\u001b[0m \u001b[0;34m=\u001b[0m \u001b[0mgenQuery\u001b[0m\u001b[0;34m(\u001b[0m\u001b[0mmido_in\u001b[0m\u001b[0;34m,\u001b[0m\u001b[0mnum_notes\u001b[0m\u001b[0;34m,\u001b[0m\u001b[0mchannel\u001b[0m\u001b[0;34m=\u001b[0m\u001b[0mkwargs\u001b[0m\u001b[0;34m[\u001b[0m\u001b[0;34m\"channel\"\u001b[0m\u001b[0;34m]\u001b[0m\u001b[0;34m)\u001b[0m\u001b[0;34m\u001b[0m\u001b[0;34m\u001b[0m\u001b[0m\n",
      "\u001b[0;32m~/Desktop/IIT DELHI/Academics/Sem 5/COL764/Clarinet/Clarinet/usermodel/__init__.py\u001b[0m in \u001b[0;36muse\u001b[0;34m(self, midi_file, output_folder, save, *args, **kwargs)\u001b[0m\n\u001b[1;32m     16\u001b[0m \u001b[0;34m\u001b[0m\u001b[0m\n\u001b[1;32m     17\u001b[0m     \u001b[0;32mdef\u001b[0m \u001b[0muse\u001b[0m\u001b[0;34m(\u001b[0m\u001b[0mself\u001b[0m\u001b[0;34m,\u001b[0m\u001b[0mmidi_file\u001b[0m \u001b[0;34m,\u001b[0m\u001b[0moutput_folder\u001b[0m\u001b[0;34m=\u001b[0m\u001b[0;34m\"\"\u001b[0m\u001b[0;34m,\u001b[0m\u001b[0msave\u001b[0m\u001b[0;34m=\u001b[0m\u001b[0;32mTrue\u001b[0m\u001b[0;34m,\u001b[0m\u001b[0;34m*\u001b[0m\u001b[0margs\u001b[0m\u001b[0;34m,\u001b[0m\u001b[0;34m**\u001b[0m\u001b[0mkwargs\u001b[0m\u001b[0;34m)\u001b[0m\u001b[0;34m:\u001b[0m\u001b[0;34m\u001b[0m\u001b[0;34m\u001b[0m\u001b[0m\n\u001b[0;32m---> 18\u001b[0;31m         \u001b[0mmido_obj\u001b[0m\u001b[0;34m=\u001b[0m\u001b[0mself\u001b[0m\u001b[0;34m.\u001b[0m\u001b[0mmodel\u001b[0m\u001b[0;34m.\u001b[0m\u001b[0muse\u001b[0m\u001b[0;34m(\u001b[0m\u001b[0mmidi_file\u001b[0m\u001b[0;34m,\u001b[0m\u001b[0;34m*\u001b[0m\u001b[0margs\u001b[0m\u001b[0;34m,\u001b[0m\u001b[0;34m**\u001b[0m\u001b[0mkwargs\u001b[0m\u001b[0;34m)\u001b[0m\u001b[0;34m\u001b[0m\u001b[0;34m\u001b[0m\u001b[0m\n\u001b[0m\u001b[1;32m     19\u001b[0m \u001b[0;34m\u001b[0m\u001b[0m\n\u001b[1;32m     20\u001b[0m         \u001b[0;32mif\u001b[0m \u001b[0msave\u001b[0m\u001b[0;34m:\u001b[0m\u001b[0;34m\u001b[0m\u001b[0;34m\u001b[0m\u001b[0m\n",
      "\u001b[0;32m~/Desktop/IIT DELHI/Academics/Sem 5/COL764/Clarinet/Clarinet/usermodel/NoisyUser/__init__.py\u001b[0m in \u001b[0;36muse\u001b[0;34m(midi_file, channel, pitch, extra, delete, velocity, length)\u001b[0m\n\u001b[1;32m      8\u001b[0m '''\n\u001b[1;32m      9\u001b[0m \u001b[0;32mdef\u001b[0m \u001b[0muse\u001b[0m\u001b[0;34m(\u001b[0m\u001b[0mmidi_file\u001b[0m\u001b[0;34m,\u001b[0m\u001b[0mchannel\u001b[0m\u001b[0;34m=\u001b[0m\u001b[0;34m-\u001b[0m\u001b[0;36m1\u001b[0m\u001b[0;34m,\u001b[0m\u001b[0mpitch\u001b[0m\u001b[0;34m=\u001b[0m\u001b[0;36m0\u001b[0m\u001b[0;34m,\u001b[0m\u001b[0mextra\u001b[0m\u001b[0;34m=\u001b[0m\u001b[0;36m0\u001b[0m\u001b[0;34m,\u001b[0m\u001b[0mdelete\u001b[0m\u001b[0;34m=\u001b[0m\u001b[0;36m0\u001b[0m\u001b[0;34m,\u001b[0m\u001b[0mvelocity\u001b[0m\u001b[0;34m=\u001b[0m\u001b[0;36m0\u001b[0m\u001b[0;34m,\u001b[0m\u001b[0mlength\u001b[0m\u001b[0;34m=\u001b[0m\u001b[0;36m0\u001b[0m\u001b[0;34m)\u001b[0m\u001b[0;34m:\u001b[0m\u001b[0;34m\u001b[0m\u001b[0;34m\u001b[0m\u001b[0m\n\u001b[0;32m---> 10\u001b[0;31m     \u001b[0mmido_obj\u001b[0m \u001b[0;34m=\u001b[0m \u001b[0mmiditoolkit\u001b[0m\u001b[0;34m.\u001b[0m\u001b[0mmidi\u001b[0m\u001b[0;34m.\u001b[0m\u001b[0mparser\u001b[0m\u001b[0;34m.\u001b[0m\u001b[0mMidiFile\u001b[0m\u001b[0;34m(\u001b[0m\u001b[0mmidi_file\u001b[0m\u001b[0;34m)\u001b[0m\u001b[0;34m\u001b[0m\u001b[0;34m\u001b[0m\u001b[0m\n\u001b[0m\u001b[1;32m     11\u001b[0m     \u001b[0muser\u001b[0m \u001b[0;34m=\u001b[0m \u001b[0mNoisyUser\u001b[0m\u001b[0;34m(\u001b[0m\u001b[0mmido_obj\u001b[0m\u001b[0;34m)\u001b[0m\u001b[0;34m\u001b[0m\u001b[0;34m\u001b[0m\u001b[0m\n\u001b[1;32m     12\u001b[0m     \u001b[0;32mif\u001b[0m \u001b[0mchannel\u001b[0m \u001b[0;34m==\u001b[0m \u001b[0;34m-\u001b[0m\u001b[0;36m1\u001b[0m\u001b[0;34m:\u001b[0m\u001b[0;34m\u001b[0m\u001b[0;34m\u001b[0m\u001b[0m\n",
      "\u001b[0;32m/opt/anaconda3/lib/python3.7/site-packages/miditoolkit/midi/parser.py\u001b[0m in \u001b[0;36m__init__\u001b[0;34m(self, filename, file, ticks_per_beat, clip, charset)\u001b[0m\n\u001b[1;32m     29\u001b[0m             \u001b[0;32mif\u001b[0m \u001b[0mfilename\u001b[0m\u001b[0;34m:\u001b[0m\u001b[0;34m\u001b[0m\u001b[0;34m\u001b[0m\u001b[0m\n\u001b[1;32m     30\u001b[0m                 \u001b[0;31m# filename\u001b[0m\u001b[0;34m\u001b[0m\u001b[0;34m\u001b[0m\u001b[0;34m\u001b[0m\u001b[0m\n\u001b[0;32m---> 31\u001b[0;31m                 \u001b[0mmido_obj\u001b[0m \u001b[0;34m=\u001b[0m \u001b[0mmido\u001b[0m\u001b[0;34m.\u001b[0m\u001b[0mMidiFile\u001b[0m\u001b[0;34m(\u001b[0m\u001b[0mfilename\u001b[0m\u001b[0;34m=\u001b[0m\u001b[0mfilename\u001b[0m\u001b[0;34m,\u001b[0m \u001b[0mclip\u001b[0m\u001b[0;34m=\u001b[0m\u001b[0mclip\u001b[0m\u001b[0;34m,\u001b[0m \u001b[0mcharset\u001b[0m\u001b[0;34m=\u001b[0m\u001b[0mcharset\u001b[0m\u001b[0;34m)\u001b[0m\u001b[0;34m\u001b[0m\u001b[0;34m\u001b[0m\u001b[0m\n\u001b[0m\u001b[1;32m     32\u001b[0m             \u001b[0;32melse\u001b[0m\u001b[0;34m:\u001b[0m\u001b[0;34m\u001b[0m\u001b[0;34m\u001b[0m\u001b[0m\n\u001b[1;32m     33\u001b[0m                 \u001b[0mmido_obj\u001b[0m \u001b[0;34m=\u001b[0m \u001b[0mmido\u001b[0m\u001b[0;34m.\u001b[0m\u001b[0mMidiFile\u001b[0m\u001b[0;34m(\u001b[0m\u001b[0mfile\u001b[0m\u001b[0;34m=\u001b[0m\u001b[0mfile\u001b[0m\u001b[0;34m,\u001b[0m \u001b[0mclip\u001b[0m\u001b[0;34m=\u001b[0m\u001b[0mclip\u001b[0m\u001b[0;34m,\u001b[0m \u001b[0mcharset\u001b[0m\u001b[0;34m=\u001b[0m\u001b[0mcharset\u001b[0m\u001b[0;34m)\u001b[0m\u001b[0;34m\u001b[0m\u001b[0;34m\u001b[0m\u001b[0m\n",
      "\u001b[0;32m/opt/anaconda3/lib/python3.7/site-packages/mido/midifiles/midifiles.py\u001b[0m in \u001b[0;36m__init__\u001b[0;34m(self, filename, file, type, ticks_per_beat, charset, debug, clip, tracks)\u001b[0m\n\u001b[1;32m    322\u001b[0m         \u001b[0;32melif\u001b[0m \u001b[0mself\u001b[0m\u001b[0;34m.\u001b[0m\u001b[0mfilename\u001b[0m \u001b[0;32mis\u001b[0m \u001b[0;32mnot\u001b[0m \u001b[0;32mNone\u001b[0m\u001b[0;34m:\u001b[0m\u001b[0;34m\u001b[0m\u001b[0;34m\u001b[0m\u001b[0m\n\u001b[1;32m    323\u001b[0m             \u001b[0;32mwith\u001b[0m \u001b[0mio\u001b[0m\u001b[0;34m.\u001b[0m\u001b[0mopen\u001b[0m\u001b[0;34m(\u001b[0m\u001b[0mfilename\u001b[0m\u001b[0;34m,\u001b[0m \u001b[0;34m'rb'\u001b[0m\u001b[0;34m)\u001b[0m \u001b[0;32mas\u001b[0m \u001b[0mfile\u001b[0m\u001b[0;34m:\u001b[0m\u001b[0;34m\u001b[0m\u001b[0;34m\u001b[0m\u001b[0m\n\u001b[0;32m--> 324\u001b[0;31m                 \u001b[0mself\u001b[0m\u001b[0;34m.\u001b[0m\u001b[0m_load\u001b[0m\u001b[0;34m(\u001b[0m\u001b[0mfile\u001b[0m\u001b[0;34m)\u001b[0m\u001b[0;34m\u001b[0m\u001b[0;34m\u001b[0m\u001b[0m\n\u001b[0m\u001b[1;32m    325\u001b[0m \u001b[0;34m\u001b[0m\u001b[0m\n\u001b[1;32m    326\u001b[0m     \u001b[0;32mdef\u001b[0m \u001b[0madd_track\u001b[0m\u001b[0;34m(\u001b[0m\u001b[0mself\u001b[0m\u001b[0;34m,\u001b[0m \u001b[0mname\u001b[0m\u001b[0;34m=\u001b[0m\u001b[0;32mNone\u001b[0m\u001b[0;34m)\u001b[0m\u001b[0;34m:\u001b[0m\u001b[0;34m\u001b[0m\u001b[0;34m\u001b[0m\u001b[0m\n",
      "\u001b[0;32m/opt/anaconda3/lib/python3.7/site-packages/mido/midifiles/midifiles.py\u001b[0m in \u001b[0;36m_load\u001b[0;34m(self, infile)\u001b[0m\n\u001b[1;32m    357\u001b[0m                     \u001b[0m_dbg\u001b[0m\u001b[0;34m(\u001b[0m\u001b[0;34m'Track {}:'\u001b[0m\u001b[0;34m.\u001b[0m\u001b[0mformat\u001b[0m\u001b[0;34m(\u001b[0m\u001b[0mi\u001b[0m\u001b[0;34m)\u001b[0m\u001b[0;34m)\u001b[0m\u001b[0;34m\u001b[0m\u001b[0;34m\u001b[0m\u001b[0m\n\u001b[1;32m    358\u001b[0m \u001b[0;34m\u001b[0m\u001b[0m\n\u001b[0;32m--> 359\u001b[0;31m                 self.tracks.append(read_track(infile,\n\u001b[0m\u001b[1;32m    360\u001b[0m                                               \u001b[0mdebug\u001b[0m\u001b[0;34m=\u001b[0m\u001b[0mself\u001b[0m\u001b[0;34m.\u001b[0m\u001b[0mdebug\u001b[0m\u001b[0;34m,\u001b[0m\u001b[0;34m\u001b[0m\u001b[0;34m\u001b[0m\u001b[0m\n\u001b[1;32m    361\u001b[0m                                               clip=self.clip))\n",
      "\u001b[0;31mKeyboardInterrupt\u001b[0m: "
     ]
    }
   ],
   "source": [
    "from Clarinet.utils.generatedata import genTextQueries\n",
    "\n",
    "collection_dir=\"Data/Midi/Collection/Original Collection\"\n",
    "type=\"Noisy\"\n",
    "output_folder=f\"Data/Midi/Queries/{type} Queries\"\n",
    "\n",
    "delete_data=True # If delete_data is True, all files in output_folder are deleted. \n",
    "                # If delete_data is False, all files in output_folder are moved to discarded.\n",
    "num_notes=15\n",
    "num_queries=-1\n",
    "\n",
    "args=[]\n",
    "kwargs={\"channel\":[0],\n",
    "\"pitch\":[0,0.05,0.1,0.2,0.3],\n",
    "\"extra\":[0,0.05,0.1,0.2,0.3] ,\n",
    "\"delete\":[0,0.05,0.1,0.15,0.2],\n",
    "\"velocity\":[0],\n",
    "\"length\":[0]}\n",
    "\n",
    "genTextQueries(collection_dir,type,output_folder,delete_data,num_notes,num_queries,**kwargs)\n"
   ]
  },
  {
   "cell_type": "markdown",
   "metadata": {},
   "source": [
    "# Collection to Text\n",
    "Skip if Collection already converted to text"
   ]
  },
  {
   "cell_type": "code",
   "execution_count": null,
   "metadata": {},
   "outputs": [],
   "source": [
    "from Clarinet.utils.generatedata import midiFolder2Text\n",
    "\n",
    "collection_dir=\"Data/Midi/Collection/Original Collection\"\n",
    "output_folder=\"Data/Text/Original Collection\"\n",
    "channel=0\n",
    "num_files=-1\n",
    "num_notes=-1\n",
    "\n",
    "midiFolder2Text(collection_dir,output_folder=output_folder,num_files=num_files,num_notes=num_notes,channel=channel)"
   ]
  },
  {
   "cell_type": "markdown",
   "metadata": {},
   "source": [
    "# Evaluation"
   ]
  },
  {
   "cell_type": "code",
   "execution_count": null,
   "metadata": {},
   "outputs": [],
   "source": [
    "import subprocess\n",
    "from Clarinet.utils.fast import fast\n",
    "from tqdm import tqdm\n",
    "import itertools\n",
    "\n",
    "num_processes=4 # CPUs/4 (Check Clarinet.evaluation.evaluate.py, line 15)\n",
    "\n",
    "query_folder=output_folder.replace(\"Midi\",\"Text\") # List of folders to evaluate\n",
    "collection_dir=collection_dir.replace(\"Midi\",\"Text\") # Always in TEXT form \n",
    "\n",
    "query_length=-1 # Query Length\n",
    "stride_length=1 # Stride Length\n",
    "\n",
    "query_num=-1 # Number of queries to evaluate\n",
    "collection_num=-1\n",
    "\n",
    "kwargs=kwargs\n",
    "\n",
    "dont_convert=\"Text/\" in query_folder\n",
    "\n",
    "def run_fasteval(query_dir,collection_dir,query_length,stride_length,output_dir=\"\",query_num=\"-1\",dont_convert=False,collection_num=-1):\n",
    "    if dont_convert:\n",
    "        subprocess.run([\"python3\",\"fasteval.py\",\"-q\",query_dir,\"-l\",str(query_length),\"-c\",collection_dir,\"-s\",str(stride_length),\"-o\",output_dir,\"-n\",str(query_num),\"-t\",\"-a\",str(collection_num)])\n",
    "    else:\n",
    "        subprocess.run([\"python3\",\"fasteval.py\",\"-q\",query_dir,\"-l\",str(query_length),\"-c\",collection_dir,\"-s\",str(stride_length),\"-o\",output_dir,\"-n\",str(query_num),\"-a\",str(collection_num)])\n",
    "\n",
    "\n",
    "# Save query folders in the form Data/Noisy Queries/pitch/extra/deleted\n",
    "\n",
    "keys=list(kwargs.keys())\n",
    "values=list(kwargs.values())\n",
    "product=list(itertools.product(*values))\n",
    "\n",
    "inputs=[]\n",
    "\n",
    "for tup in product:\n",
    "    args=[]\n",
    "    kwargs={keys[i]:tup[i] for i in range(len(keys))}\n",
    "\n",
    "    name_list=[f\"{key.capitalize()} {value}\" for key,value in kwargs.items()]\n",
    "    query_dir=f\"{query_folder}/{'/'.join(name_list)}\"\n",
    "\n",
    "    output_dir=f\"{query_dir.replace('Data/Text/Queries','Results')}\"\n",
    "\n",
    "    inputs.append((query_dir,collection_dir,query_length,stride_length,output_dir,query_num,dont_convert,collection_num))\n",
    "\n",
    "fast(run_fasteval,inputs,num_processes=num_processes)"
   ]
  },
  {
   "cell_type": "markdown",
   "metadata": {},
   "source": [
    "# Analysis\n",
    "### Compile Results"
   ]
  },
  {
   "cell_type": "code",
   "execution_count": null,
   "metadata": {},
   "outputs": [],
   "source": [
    "from Clarinet.evaluation import compile\n",
    "metrics=[\"Recall@1\",\"Recall@3\",\"Recall@5\",\"Recall@10\",\"Mean Rank\",\"Margin of Error\"]\n",
    "naming={\"Pitch\":[0,0.05,0.1,0.2,0.3],\"Extra\":[0],\"Deleted\":[0]}\n",
    "result_dirs=[\"Results/Noisy Queries\"]\n",
    "# for loop for above\n",
    "for result_dir in result_dirs:\n",
    "    for metric in metrics:\n",
    "            compile(result_dir,naming,metric)"
   ]
  },
  {
   "cell_type": "markdown",
   "metadata": {},
   "source": [
    "### Plot Trends"
   ]
  },
  {
   "cell_type": "code",
   "execution_count": null,
   "metadata": {},
   "outputs": [],
   "source": [
    "from Clarinet.evaluation import trends\n",
    "import os\n",
    "\n",
    "folders=[\"Results/Analysis/Noisy Queries\"]\n",
    "# List of all folders inside the results folder\n",
    "for folder in folders:\n",
    "    # Find all csv files recursively inside result_dir\n",
    "    csv_files=[]\n",
    "    for root,dirs,files in os.walk(folder):\n",
    "        for file in files:\n",
    "            if file.endswith(\".csv\"):\n",
    "                csv_files.append(os.path.join(root,file))\n",
    "    # For each csv file, plot the trends\n",
    "    for csv_file in csv_files:\n",
    "        trends(csv_file,\"Pitch\")"
   ]
  }
 ],
 "metadata": {
  "interpreter": {
   "hash": "40d3a090f54c6569ab1632332b64b2c03c39dcf918b08424e98f38b5ae0af88f"
  },
  "kernelspec": {
   "display_name": "Python 3",
   "language": "python",
   "name": "python3"
  },
  "language_info": {
   "codemirror_mode": {
    "name": "ipython",
    "version": 3
   },
   "file_extension": ".py",
   "mimetype": "text/x-python",
   "name": "python",
   "nbconvert_exporter": "python",
   "pygments_lexer": "ipython3",
   "version": "3.7.6"
  }
 },
 "nbformat": 4,
 "nbformat_minor": 4
}
