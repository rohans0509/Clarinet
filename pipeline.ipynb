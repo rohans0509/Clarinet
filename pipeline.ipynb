{
 "cells": [
  {
   "cell_type": "markdown",
   "metadata": {},
   "source": [
    "# Pipeline\n",
    "MIDI → User Model → Used Midi → Query Text"
   ]
  },
  {
   "cell_type": "markdown",
   "metadata": {},
   "source": [
    "### Imports"
   ]
  },
  {
   "cell_type": "code",
   "execution_count": null,
   "metadata": {},
   "outputs": [],
   "source": [
    "from Clarinet.utils.generatedata import genTextQueries,genMidiQueries"
   ]
  },
  {
   "cell_type": "markdown",
   "metadata": {},
   "source": [
    "# Ideal User"
   ]
  },
  {
   "cell_type": "code",
   "execution_count": null,
   "metadata": {},
   "outputs": [],
   "source": [
    "from Clarinet.utils.generatedata import genTextQueries\n",
    "\n",
    "collection_dir=\"Data/Midi/Collection/Original Collection\"\n",
    "type=\"Ideal\"\n",
    "output_folder=f\"Data/Midi/Queries/{type} Queries\"\n",
    "\n",
    "delete_data=True # If delete_data is True, all files in output_folder are deleted. \n",
    "                # If delete_data is False, all files in output_folder are moved to discarded.\n",
    "num_notes=15\n",
    "num_queries=2\n",
    "\n",
    "args=[]\n",
    "kwargs={\"channel\":[0]}\n",
    "\n",
    "genTextQueries(collection_dir,type,output_folder,delete_data,num_notes,num_queries,*args,**kwargs)"
   ]
  },
  {
   "cell_type": "markdown",
   "metadata": {},
   "source": [
    "# Noisy User"
   ]
  },
  {
   "cell_type": "code",
   "execution_count": null,
   "metadata": {},
   "outputs": [],
   "source": [
    "from Clarinet.utils.generatedata import genTextQueries\n",
    "\n",
    "collection_dir=\"Data/Midi/Collection/Original Collection\"\n",
    "type=\"Noisy\"\n",
    "output_folder=f\"Data/Midi/Queries/{type} Queries\"\n",
    "\n",
    "delete_data=True # If delete_data is True, all files in output_folder are deleted. \n",
    "                # If delete_data is False, all files in output_folder are moved to discarded.\n",
    "num_notes=15\n",
    "num_queries=-1\n",
    "\n",
    "args=[]\n",
    "kwargs={\"channel\":[0],\n",
    "\"pitch\":[0,0.05,0.1,0.2,0.3],\n",
    "\"extra\":[0,0.05,0.1,0.2,0.3] ,\n",
    "\"delete\":[0,0.05,0.1,0.15,0.2],\n",
    "\"velocity\":[0],\n",
    "\"length\":[0]}\n",
    "\n",
    "genTextQueries(collection_dir,type,output_folder,delete_data,num_notes,num_queries,**kwargs)\n"
   ]
  },
  {
   "cell_type": "markdown",
   "metadata": {},
   "source": [
    "# Collection to Text\n",
    "Skip if Collection already converted to text"
   ]
  },
  {
   "cell_type": "code",
   "execution_count": null,
   "metadata": {},
   "outputs": [],
   "source": [
    "from Clarinet.utils.generatedata import midiFolder2Text\n",
    "\n",
    "collection_dir=\"Data/Midi/Collection/Original Collection\"\n",
    "output_folder=\"Data/Text/Original Collection\"\n",
    "channel=0\n",
    "num_files=-1\n",
    "num_notes=-1\n",
    "\n",
    "midiFolder2Text(collection_dir,output_folder=output_folder,num_files=num_files,num_notes=num_notes,channel=channel)"
   ]
  },
  {
   "cell_type": "markdown",
   "metadata": {},
   "source": [
    "# Evaluation"
   ]
  },
  {
   "cell_type": "code",
   "execution_count": null,
   "metadata": {},
   "outputs": [],
   "source": [
    "import subprocess\n",
    "from Clarinet.utils.fast import fast\n",
    "from tqdm import tqdm\n",
    "import itertools\n",
    "\n",
    "num_processes=4 # CPUs/4 (Check Clarinet.evaluation.evaluate.py, line 15)\n",
    "\n",
    "query_folder=output_folder.replace(\"Midi\",\"Text\") # List of folders to evaluate\n",
    "collection_dir=collection_dir.replace(\"Midi\",\"Text\") # Always in TEXT form \n",
    "\n",
    "query_length=-1 # Query Length\n",
    "stride_length=1 # Stride Length\n",
    "\n",
    "query_num=-1 # Number of queries to evaluate\n",
    "collection_num=-1\n",
    "\n",
    "kwargs=kwargs\n",
    "\n",
    "dont_convert=\"Text/\" in query_folder\n",
    "\n",
    "def run_fasteval(query_dir,collection_dir,query_length,stride_length,output_dir=\"\",query_num=\"-1\",dont_convert=False,collection_num=-1):\n",
    "    if dont_convert:\n",
    "        subprocess.run([\"python3\",\"fasteval.py\",\"-q\",query_dir,\"-l\",str(query_length),\"-c\",collection_dir,\"-s\",str(stride_length),\"-o\",output_dir,\"-n\",str(query_num),\"-t\",\"-a\",str(collection_num)])\n",
    "    else:\n",
    "        subprocess.run([\"python3\",\"fasteval.py\",\"-q\",query_dir,\"-l\",str(query_length),\"-c\",collection_dir,\"-s\",str(stride_length),\"-o\",output_dir,\"-n\",str(query_num),\"-a\",str(collection_num)])\n",
    "\n",
    "\n",
    "# Save query folders in the form Data/Noisy Queries/pitch/extra/deleted\n",
    "\n",
    "keys=list(kwargs.keys())\n",
    "values=list(kwargs.values())\n",
    "product=list(itertools.product(*values))\n",
    "\n",
    "inputs=[]\n",
    "\n",
    "for tup in product:\n",
    "    args=[]\n",
    "    kwargs={keys[i]:tup[i] for i in range(len(keys))}\n",
    "\n",
    "    name_list=[f\"{key.capitalize()} {value}\" for key,value in kwargs.items()]\n",
    "    query_dir=f\"{query_folder}/{'/'.join(name_list)}\"\n",
    "\n",
    "    output_dir=f\"{query_dir.replace('Data/Text/Queries','Results')}\"\n",
    "\n",
    "    inputs.append((query_dir,collection_dir,query_length,stride_length,output_dir,query_num,dont_convert,collection_num))\n",
    "\n",
    "fast(run_fasteval,inputs,num_processes=num_processes)"
   ]
  },
  {
   "cell_type": "markdown",
   "metadata": {},
   "source": [
    "# Analysis\n",
    "### Compile Results"
   ]
  },
  {
   "cell_type": "code",
   "execution_count": null,
   "metadata": {},
   "outputs": [],
   "source": [
    "from Clarinet.evaluation import compile\n",
    "metrics=[\"Recall@1\",\"Recall@3\",\"Recall@5\",\"Recall@10\",\"Mean Rank\",\"Margin of Error\"]\n",
    "naming={\"Pitch\":[0,0.05,0.1,0.2,0.3],\"Extra\":[0],\"Deleted\":[0]}\n",
    "result_dirs=[\"Results/Noisy Queries\"]\n",
    "# for loop for above\n",
    "for result_dir in result_dirs:\n",
    "    for metric in metrics:\n",
    "            compile(result_dir,naming,metric)"
   ]
  },
  {
   "cell_type": "markdown",
   "metadata": {},
   "source": [
    "### Plot Trends"
   ]
  },
  {
   "cell_type": "code",
   "execution_count": null,
   "metadata": {},
   "outputs": [],
   "source": [
    "from Clarinet.evaluation import trends\n",
    "import os\n",
    "\n",
    "folders=[\"Results/Analysis/Noisy Queries\"]\n",
    "# List of all folders inside the results folder\n",
    "for folder in folders:\n",
    "    # Find all csv files recursively inside result_dir\n",
    "    csv_files=[]\n",
    "    for root,dirs,files in os.walk(folder):\n",
    "        for file in files:\n",
    "            if file.endswith(\".csv\"):\n",
    "                csv_files.append(os.path.join(root,file))\n",
    "    # For each csv file, plot the trends\n",
    "    for csv_file in csv_files:\n",
    "        trends(csv_file,\"Pitch\")"
   ]
  },
  {
   "cell_type": "code",
   "execution_count": 5,
   "metadata": {},
   "outputs": [
    {
     "name": "stderr",
     "output_type": "stream",
     "text": [
      "100%|██████████| 2/2 [00:00<00:00,  2.27it/s]\n",
      "100%|██████████| 2/2 [00:00<00:00,  3.63it/s]\n",
      "100%|██████████| 2/2 [00:00<00:00,  5.29it/s]\n",
      "100%|██████████| 2/2 [00:00<00:00,  3.57it/s]\n",
      "100%|██████████| 4/4 [00:02<00:00,  1.58it/s]\n"
     ]
    },
    {
     "name": "stdout",
     "output_type": "stream",
     "text": [
      "-------------------------------\n",
      "Running 4 processes\n"
     ]
    },
    {
     "name": "stderr",
     "output_type": "stream",
     "text": [
      "100%|██████████| 4/4 [00:07<00:00,  1.82s/it]"
     ]
    },
    {
     "name": "stdout",
     "output_type": "stream",
     "text": [
      "\n",
      "\n",
      "\n",
      "\n",
      "\n",
      "-------------------------------\n",
      "All processes run\n"
     ]
    },
    {
     "name": "stderr",
     "output_type": "stream",
     "text": [
      "\n"
     ]
    }
   ],
   "source": [
    "from Clarinet.utils.generatedata import genAndEval\n",
    "\n",
    "collection_dir=\"Data/Midi/Collection/Original Collection\"\n",
    "type=\"Noisy\"\n",
    "\n",
    "delete_data=True # If delete_data is True, all files in output_folder are deleted. \n",
    "                # If delete_data is False, all files in output_folder are moved to discarded.\n",
    "num_notes=15\n",
    "num_queries=2\n",
    "stride_length=1 # Stride Length\n",
    "collection_num=3\n",
    "num_processes=4 \n",
    "\n",
    "args=[]\n",
    "kwargs={\"channel\":[0],\n",
    "\"pitch\":[0,0.05],\n",
    "\"extra\":[0,0.05] ,\n",
    "\"delete\":[0],\n",
    "\"velocity\":[0],\n",
    "\"length\":[0]}\n",
    "\n",
    "\n",
    "\n",
    "genAndEval(collection_dir,type,num_notes,num_queries,num_processes=num_processes,collection_num=collection_num,stride_length=stride_length,delete_data=delete_data,query_midi_folder=\"\",*args,**kwargs)"
   ]
  }
 ],
 "metadata": {
  "interpreter": {
   "hash": "40d3a090f54c6569ab1632332b64b2c03c39dcf918b08424e98f38b5ae0af88f"
  },
  "kernelspec": {
   "display_name": "Python 3",
   "language": "python",
   "name": "python3"
  },
  "language_info": {
   "codemirror_mode": {
    "name": "ipython",
    "version": 3
   },
   "file_extension": ".py",
   "mimetype": "text/x-python",
   "name": "python",
   "nbconvert_exporter": "python",
   "pygments_lexer": "ipython3",
   "version": "3.7.6"
  }
 },
 "nbformat": 4,
 "nbformat_minor": 4
}
