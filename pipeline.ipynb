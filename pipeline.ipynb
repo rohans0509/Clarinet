{
 "cells": [
  {
   "cell_type": "markdown",
   "metadata": {},
   "source": [
    "# Pipeline\n",
    "MIDI → User Model → Used Midi → Query Text"
   ]
  },
  {
   "cell_type": "markdown",
   "metadata": {},
   "source": [
    "# Ideal User"
   ]
  },
  {
   "cell_type": "code",
   "execution_count": null,
   "metadata": {},
   "outputs": [],
   "source": [
    "from Clarinet.utils.generatedata import genAndEval\n",
    "\n",
    "collection_dir=\"Data/Midi/Collection/Original Collection\"\n",
    "type=\"Noisy\"\n",
    "\n",
    "delete_data=True # If delete_data is True, all files in output_folder are deleted. \n",
    "                # If delete_data is False, all files in output_folder are moved to discarded.\n",
    "num_notes=15\n",
    "num_queries=1\n",
    "num_collection=-1\n",
    "num_processes=4 \n",
    "\n",
    "stride_length=15 # Stride Length\n",
    "similarity_type=\"text\"\n",
    "\n",
    "args=[]\n",
    "kwargs={\"channel\":[0]}\n",
    "\n",
    "genAndEval(collection_dir,type,num_notes,num_queries,num_processes=num_processes,num_collection=num_collection,stride_length=stride_length,delete_data=delete_data,query_midi_folder=\"\",similarity_type=similarity_type,*args,**kwargs)"
   ]
  },
  {
   "cell_type": "markdown",
   "metadata": {},
   "source": [
    "# Noisy User"
   ]
  },
  {
   "cell_type": "code",
   "execution_count": null,
   "metadata": {},
   "outputs": [],
   "source": [
    "from Clarinet.utils.generatedata import genAndEval\n",
    "\n",
    "collection_dir=\"Data/Midi/Collection/Original Collection\"\n",
    "type=\"Noisy\"\n",
    "\n",
    "delete_data=True # If delete_data is True, all files in output_folder are deleted. \n",
    "                # If delete_data is False, all files in output_folder are moved to discarded.\n",
    "num_notes=15\n",
    "num_queries=2\n",
    "num_collection=-1\n",
    "num_processes=4 \n",
    "\n",
    "stride_length=15 # Stride Length\n",
    "similarity_type=\"text\"\n",
    "\n",
    "args=[]\n",
    "kwargs={\"channel\":[0],\n",
    "\"pitch\":[0,0.05,0.1,0.2,0.3],\n",
    "\"extra\":[0,0.05,0.1,0.2,0.3] ,\n",
    "\"delete\":[0,0.05,0.1,0.15,0.2],\n",
    "\"velocity\":[0],\n",
    "\"length\":[0]}\n",
    "\n",
    "genAndEval(collection_dir,type,num_notes,num_queries,num_processes=num_processes,num_collection=num_collection,stride_length=stride_length,delete_data=delete_data,query_midi_folder=\"\",similarity_type=similarity_type,*args,**kwargs)"
   ]
  },
  {
   "cell_type": "markdown",
   "metadata": {},
   "source": [
    "# Collection to Text\n",
    "Skip if Collection already converted to text"
   ]
  },
  {
   "cell_type": "code",
   "execution_count": null,
   "metadata": {},
   "outputs": [],
   "source": [
    "from Clarinet.utils.generatedata import midiFolder2Text\n",
    "\n",
    "collection_dir=\"Data/Midi/Collection/Original Collection\"\n",
    "output_folder=\"Data/Text/Original Collection\"\n",
    "channel=0\n",
    "num_files=-1\n",
    "num_notes=-1\n",
    "\n",
    "midiFolder2Text(collection_dir,output_folder=output_folder,num_files=num_files,num_notes=num_notes,channel=channel)"
   ]
  },
  {
   "cell_type": "markdown",
   "metadata": {},
   "source": [
    "# Analysis\n",
    "### Compile Results"
   ]
  },
  {
   "cell_type": "code",
   "execution_count": null,
   "metadata": {},
   "outputs": [],
   "source": [
    "from Clarinet.evaluation import compile\n",
    "metrics=[\"Recall@1\",\"Recall@3\",\"Recall@5\",\"Recall@10\",\"Mean Rank\",\"Margin of Error\"]\n",
    "naming={\"Pitch\":[0,0.05,0.1,0.2,0.3],\"Extra\":[0],\"Deleted\":[0]}\n",
    "result_dirs=[\"Results/Noisy Queries\"]\n",
    "# for loop for above\n",
    "for result_dir in result_dirs:\n",
    "    for metric in metrics:\n",
    "            compile(result_dir,naming,metric)"
   ]
  },
  {
   "cell_type": "markdown",
   "metadata": {},
   "source": [
    "### Plot Trends"
   ]
  },
  {
   "cell_type": "code",
   "execution_count": null,
   "metadata": {},
   "outputs": [],
   "source": [
    "from Clarinet.evaluation import trends\n",
    "import os\n",
    "\n",
    "folders=[\"Results/Analysis/Noisy Queries\"]\n",
    "# List of all folders inside the results folder\n",
    "for folder in folders:\n",
    "    # Find all csv files recursively inside result_dir\n",
    "    csv_files=[]\n",
    "    for root,dirs,files in os.walk(folder):\n",
    "        for file in files:\n",
    "            if file.endswith(\".csv\"):\n",
    "                csv_files.append(os.path.join(root,file))\n",
    "    # For each csv file, plot the trends\n",
    "    for csv_file in csv_files:\n",
    "        trends(csv_file,\"Pitch\")"
   ]
  }
 ],
 "metadata": {
  "interpreter": {
   "hash": "40d3a090f54c6569ab1632332b64b2c03c39dcf918b08424e98f38b5ae0af88f"
  },
  "kernelspec": {
   "display_name": "Python 3",
   "language": "python",
   "name": "python3"
  },
  "language_info": {
   "codemirror_mode": {
    "name": "ipython",
    "version": 3
   },
   "file_extension": ".py",
   "mimetype": "text/x-python",
   "name": "python",
   "nbconvert_exporter": "python",
   "pygments_lexer": "ipython3",
   "version": "3.7.6"
  }
 },
 "nbformat": 4,
 "nbformat_minor": 4
}
