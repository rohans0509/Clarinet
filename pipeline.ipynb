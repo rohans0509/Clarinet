{
 "cells": [
  {
   "cell_type": "markdown",
   "metadata": {},
   "source": [
    "# Pipeline"
   ]
  },
  {
   "cell_type": "markdown",
   "metadata": {},
   "source": [
    "## MIDI → User Model → Used Midi"
   ]
  },
  {
   "cell_type": "markdown",
   "metadata": {},
   "source": [
    "### Ideal User"
   ]
  },
  {
   "cell_type": "code",
   "execution_count": 1,
   "metadata": {},
   "outputs": [
    {
     "name": "stderr",
     "output_type": "stream",
     "text": [
      "100%|██████████| 909/909 [03:58<00:00,  3.80it/s]\n"
     ]
    }
   ],
   "source": [
    "from Clarinet.utils.generatedata import useFolder\n",
    "\n",
    "collection_dir=\"Data/Midi/Collection/Original Collection\"\n",
    "type=\"Ideal\"\n",
    "output_folder=f\"Data/Midi/Queries/{type} Queries\"\n",
    "args=[]\n",
    "kwargs={}\n",
    "\n",
    "useFolder(collection_dir,output_folder,type,*args,**kwargs)"
   ]
  },
  {
   "cell_type": "markdown",
   "metadata": {},
   "source": [
    "### Noisy User"
   ]
  },
  {
   "cell_type": "code",
   "execution_count": 1,
   "metadata": {},
   "outputs": [
    {
     "name": "stderr",
     "output_type": "stream",
     "text": [
      "100%|██████████| 909/909 [03:00<00:00,  5.04it/s]\n"
     ]
    }
   ],
   "source": [
    "from Clarinet.utils.generatedata import useFolder\n",
    "\n",
    "collection_dir=\"Data/Midi/Collection/Original Collection\"\n",
    "type=\"Noisy\"\n",
    "output_folder=f\"Data/Midi/Queries/{type} Queries\"\n",
    "\n",
    "channel=-1\n",
    "pitch=0\n",
    "extra=0\n",
    "delete=0\n",
    "velocity=0\n",
    "length=0\n",
    "\n",
    "\n",
    "args=[]\n",
    "kwargs={\"channel\":channel,\n",
    "    \"pitch\":pitch,\n",
    "    \"extra\":extra,\n",
    "    \"delete\":delete,\n",
    "    \"velocity\":velocity,\n",
    "    \"length\":length}\n",
    "\n",
    "useFolder(collection_dir,output_folder,type,*args,**kwargs)"
   ]
  },
  {
   "cell_type": "markdown",
   "metadata": {},
   "source": [
    "# Text Conversion\n",
    "## Collection"
   ]
  },
  {
   "cell_type": "code",
   "execution_count": null,
   "metadata": {},
   "outputs": [],
   "source": [
    "from Clarinet.utils.generatedata import midiFolder2Text\n",
    "\n",
    "collection_dir=\"Data/Midi/Collection/Original Collection\"\n",
    "output_folder=\"Data/Text/Original Collection\"\n",
    "channel=0\n",
    "num_files=-1\n",
    "num_notes=-1\n",
    "\n",
    "midiFolder2Text(collection_dir,output_folder=output_folder,num_files=num_files,num_notes=num_notes,channel=channel)"
   ]
  },
  {
   "cell_type": "markdown",
   "metadata": {},
   "source": [
    "## Queries"
   ]
  },
  {
   "cell_type": "code",
   "execution_count": 2,
   "metadata": {},
   "outputs": [
    {
     "name": "stderr",
     "output_type": "stream",
     "text": [
      "100%|██████████| 30/30 [00:03<00:00,  7.73it/s]\n",
      "100%|██████████| 30/30 [00:03<00:00,  9.47it/s]\n"
     ]
    }
   ],
   "source": [
    "from Clarinet.utils.generatedata import midiFolder2QueryText\n",
    "\n",
    "types=[\"Ideal\",\"Noisy\"]\n",
    "channel=0\n",
    "num_queries=30\n",
    "num_notes=30\n",
    "\n",
    "query_folders=[f\"Data/Midi/Queries/{type} Queries\" for type in types]\n",
    "output_folders=[f\"Data/Text/Queries/{type} Queries\" for type in types]\n",
    "\n",
    "\n",
    "for i in range(len(query_folders)):\n",
    "    query_dir=query_folders[i]\n",
    "    output_dir=output_folders[i]\n",
    "    midiFolder2QueryText(query_dir,output_folder=output_dir,num_queries=num_queries,num_notes=num_notes,channel=channel)"
   ]
  },
  {
   "cell_type": "markdown",
   "metadata": {},
   "source": [
    "# Evaluation"
   ]
  },
  {
   "cell_type": "code",
   "execution_count": null,
   "metadata": {},
   "outputs": [],
   "source": [
    "import subprocess\n",
    "from Clarinet.utils.fast import fast\n",
    "\n",
    "collection_dir=\"Data/Text/Collection/Original Collection\" # Collection dir is always in text form\n",
    "\n",
    "types=[\"Ideal\",\"Noisy\"]\n",
    "\n",
    "query_length=5\n",
    "stride_length=1\n",
    "num_queries=2\n",
    "num_processes=4\n",
    "\n",
    "query_folders=[f\"Data/Text/Queries/{type} Queries\" for type in types]\n",
    "output_folders=[f\"Results/Queries/{type} Queries\" for type in types]\n",
    "\n",
    "def run_fasteval(query_dir,collection_dir,query_length,stride_length,output_dir=\"\",num_queries=\"-1\"):\n",
    "    subprocess.run([\"python\",\"fasteval.py\",\"-q\",query_dir,\"-l\",str(query_length),\"-c\",collection_dir,\"-s\",str(stride_length),\"-o\",output_dir,\"-n\",str(num_queries)])\n",
    "\n",
    "inputs=[]\n",
    "\n",
    "for i in range(len(query_folders)):\n",
    "    query_dir=query_folders[i]\n",
    "    output_dir=output_folders[i] if i<len(output_folders) else query_dir\n",
    "    if i<len(output_folders):\n",
    "        output_dir=output_folders[i]\n",
    "    else:\n",
    "        output_dir=\"\"\n",
    "\n",
    "    inputs.append((query_dir,collection_dir,query_length,stride_length,output_dir,num_queries))\n",
    "\n",
    "fast(run_fasteval,inputs,num_processes=num_processes)"
   ]
  },
  {
   "cell_type": "markdown",
   "metadata": {},
   "source": [
    "# Analysis\n",
    "### Compile Results"
   ]
  },
  {
   "cell_type": "code",
   "execution_count": null,
   "metadata": {},
   "outputs": [],
   "source": [
    "from Clarinet.evaluation import compile\n",
    "metrics=[\"Recall@1\",\"Recall@3\",\"Recall@5\",\"Recall@10\",\"Mean Rank\",\"Margin of Error\"]\n",
    "naming={\"Pitch\":[0,0.05,0.1,0.2,0.3],\"Extra\":[0],\"Deleted\":[0]}\n",
    "result_dirs=[\"Results/Noisy Queries\"]\n",
    "# for loop for above\n",
    "for result_dir in result_dirs:\n",
    "    for metric in metrics:\n",
    "            compile(result_dir,naming,metric)"
   ]
  },
  {
   "cell_type": "markdown",
   "metadata": {},
   "source": [
    "### Plot Trends"
   ]
  },
  {
   "cell_type": "code",
   "execution_count": null,
   "metadata": {},
   "outputs": [],
   "source": [
    "from Clarinet.evaluation import trends\n",
    "import os\n",
    "\n",
    "folders=[\"Results/Analysis/Noisy Queries\"]\n",
    "# List of all folders inside the results folder\n",
    "for folder in folders:\n",
    "    # Find all csv files recursively inside result_dir\n",
    "    csv_files=[]\n",
    "    for root,dirs,files in os.walk(folder):\n",
    "        for file in files:\n",
    "            if file.endswith(\".csv\"):\n",
    "                csv_files.append(os.path.join(root,file))\n",
    "    # For each csv file, plot the trends\n",
    "    for csv_file in csv_files:\n",
    "        trends(csv_file,\"Pitch\")"
   ]
  }
 ],
 "metadata": {
  "interpreter": {
   "hash": "40d3a090f54c6569ab1632332b64b2c03c39dcf918b08424e98f38b5ae0af88f"
  },
  "kernelspec": {
   "display_name": "Python 3",
   "language": "python",
   "name": "python3"
  },
  "language_info": {
   "codemirror_mode": {
    "name": "ipython",
    "version": 3
   },
   "file_extension": ".py",
   "mimetype": "text/x-python",
   "name": "python",
   "nbconvert_exporter": "python",
   "pygments_lexer": "ipython3",
   "version": "3.7.6"
  }
 },
 "nbformat": 4,
 "nbformat_minor": 4
}
