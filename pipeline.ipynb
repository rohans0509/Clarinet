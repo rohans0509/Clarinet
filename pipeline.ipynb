{
 "cells": [
  {
   "cell_type": "markdown",
   "metadata": {},
   "source": [
    "# Pipeline"
   ]
  },
  {
   "cell_type": "markdown",
   "metadata": {},
   "source": [
    "## Query Generation"
   ]
  },
  {
   "cell_type": "markdown",
   "metadata": {},
   "source": [
    "### Ideal Queries"
   ]
  },
  {
   "cell_type": "code",
   "execution_count": null,
   "metadata": {},
   "outputs": [],
   "source": [
    "from Clarinet.utils.generatedata import midiFolder2Queries\n",
    "import os\n",
    "\n",
    "collection_dir=\"Data/Midi/Original Collection\"\n",
    "output_folder=\"Data/Midi/Ideal Queries\"\n",
    "channel=0\n",
    "num_files=-1\n",
    "num_notes=-1\n",
    "\n",
    "midiFolder2Queries(collection_dir,output_folder=output_folder,num_files=num_files,num_notes=num_notes,channel=channel)"
   ]
  },
  {
   "cell_type": "markdown",
   "metadata": {},
   "source": [
    "### Noisy Queries"
   ]
  },
  {
   "cell_type": "code",
   "execution_count": null,
   "metadata": {},
   "outputs": [],
   "source": [
    "from Clarinet.utils.generatedata import useFolder\n",
    "\n",
    "query_dir=\"Data/Midi/Ideal Queries\"\n",
    "type=\"Noisy\"\n",
    "output_folder=f\"Data/Midi/{type} Queries\"\n",
    "args=[]\n",
    "kwargs={\"channel\":-1,\n",
    "    \"pitch\":0,\n",
    "    \"extra\":0,\n",
    "    \"delete\":0,\n",
    "    \"velocity\":0,\n",
    "    \"length\":0}\n",
    "\n",
    "useFolder(query_dir,type,output_folder,*args,**kwargs)"
   ]
  },
  {
   "cell_type": "markdown",
   "metadata": {},
   "source": [
    "## Text Conversion\n",
    "Ignore if collection is already in text format"
   ]
  },
  {
   "cell_type": "code",
   "execution_count": null,
   "metadata": {},
   "outputs": [],
   "source": [
    "from Clarinet.utils.generatedata import midiFolder2Text\n",
    "\n",
    "collection_dir=\"Data/Midi/Original Collection\"\n",
    "output_folder=\"Text/Original Collection\"\n",
    "channel=0\n",
    "num_files=-1\n",
    "num_notes=-1\n",
    "\n",
    "midiFolder2Text(collection_dir,output_folder=output_folder,num_files=num_files,num_notes=num_notes,channel=channel)"
   ]
  },
  {
   "cell_type": "markdown",
   "metadata": {},
   "source": [
    "# Evaluation"
   ]
  },
  {
   "cell_type": "code",
   "execution_count": null,
   "metadata": {},
   "outputs": [],
   "source": [
    "import subprocess\n",
    "from Clarinet.utils.fast import fast\n",
    "\n",
    "collection_dir=\"Data/Text/Original Collection\" # Collection dir is always in text form\n",
    "query_folders=[\"Data/Midi/Original Queries\"]\n",
    "output_folders=[\"Results/Midi/Original Queries\"]\n",
    "query_length=5\n",
    "stride_length=1\n",
    "num_processes=4\n",
    "query_num=2\n",
    "\n",
    "\n",
    "\n",
    "def run_fasteval(query_dir,collection_dir,query_length,stride_length,output_dir=\"\",query_num=\"-1\"):\n",
    "    subprocess.run([\"python\",\"fasteval.py\",\"-q\",query_dir,\"-l\",str(query_length),\"-c\",collection_dir,\"-s\",str(stride_length),\"-o\",output_dir,\"-n\",str(query_num)])\n",
    "\n",
    "inputs=[]\n",
    "\n",
    "for i in range(len(query_folders)):\n",
    "    query_dir=query_folders[i]\n",
    "    output_dir=output_folders[i] if i<len(output_folders) else query_dir\n",
    "    if i<len(output_folders):\n",
    "        output_dir=output_folders[i]\n",
    "    else:\n",
    "        output_dir=\"\"\n",
    "\n",
    "    inputs.append((query_dir,collection_dir,query_length,stride_length,output_dir,query_num))\n",
    "\n",
    "fast(run_fasteval,inputs,num_processes=num_processes)"
   ]
  },
  {
   "cell_type": "markdown",
   "metadata": {},
   "source": [
    "# Analysis\n",
    "## Compile Results"
   ]
  },
  {
   "cell_type": "code",
   "execution_count": null,
   "metadata": {},
   "outputs": [],
   "source": [
    "from Clarinet.evaluation import compile\n",
    "metrics=[\"Recall@1\",\"Recall@3\",\"Recall@5\",\"Recall@10\",\"Mean Rank\",\"Margin of Error\"]\n",
    "naming={\"Pitch\":[0,0.05,0.1,0.2,0.3],\"Extra\":[0],\"Deleted\":[0]}\n",
    "result_dirs=[\"Results/Noisy Queries\"]\n",
    "# for loop for above\n",
    "for result_dir in result_dirs:\n",
    "    for metric in metrics:\n",
    "            compile(result_dir,naming,metric)"
   ]
  },
  {
   "cell_type": "markdown",
   "metadata": {},
   "source": [
    "## Plot Trends"
   ]
  },
  {
   "cell_type": "code",
   "execution_count": null,
   "metadata": {},
   "outputs": [],
   "source": [
    "from Clarinet.evaluation import trends\n",
    "import os\n",
    "\n",
    "folders=[\"Results/Analysis/Noisy Queries\"]\n",
    "# List of all folders inside the results folder\n",
    "for folder in folders:\n",
    "    # Find all csv files recursively inside result_dir\n",
    "    csv_files=[]\n",
    "    for root,dirs,files in os.walk(folder):\n",
    "        for file in files:\n",
    "            if file.endswith(\".csv\"):\n",
    "                csv_files.append(os.path.join(root,file))\n",
    "    # For each csv file, plot the trends\n",
    "    for csv_file in csv_files:\n",
    "        trends(csv_file,\"Pitch\")"
   ]
  }
 ],
 "metadata": {
  "interpreter": {
   "hash": "40d3a090f54c6569ab1632332b64b2c03c39dcf918b08424e98f38b5ae0af88f"
  },
  "kernelspec": {
   "display_name": "Python 3",
   "language": "python",
   "name": "python3"
  },
  "language_info": {
   "codemirror_mode": {
    "name": "ipython",
    "version": 3
   },
   "file_extension": ".py",
   "mimetype": "text/x-python",
   "name": "python",
   "nbconvert_exporter": "python",
   "pygments_lexer": "ipython3",
   "version": "3.7.6"
  }
 },
 "nbformat": 4,
 "nbformat_minor": 4
}
